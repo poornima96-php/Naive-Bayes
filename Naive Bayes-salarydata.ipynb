{
 "cells": [
  {
   "cell_type": "markdown",
   "id": "f4a497bb",
   "metadata": {},
   "source": [
    "Naive Bayes"
   ]
  },
  {
   "cell_type": "code",
   "execution_count": 22,
   "id": "0e1f0205",
   "metadata": {},
   "outputs": [],
   "source": [
    "import numpy as np\n",
    "import pandas as pd\n",
    "import matplotlib.pyplot as plt\n",
    "import seaborn as sns\n",
    "%matplotlib inline\n",
    "import os\n",
    "import warnings\n",
    "warnings.filterwarnings('ignore')"
   ]
  },
  {
   "cell_type": "code",
   "execution_count": null,
   "id": "114146fc",
   "metadata": {},
   "outputs": [],
   "source": []
  },
  {
   "cell_type": "markdown",
   "id": "85e348d4",
   "metadata": {},
   "source": [
    "Import Libraries"
   ]
  },
  {
   "cell_type": "code",
   "execution_count": 3,
   "id": "db630265",
   "metadata": {},
   "outputs": [
    {
     "data": {
      "text/html": [
       "<div>\n",
       "<style scoped>\n",
       "    .dataframe tbody tr th:only-of-type {\n",
       "        vertical-align: middle;\n",
       "    }\n",
       "\n",
       "    .dataframe tbody tr th {\n",
       "        vertical-align: top;\n",
       "    }\n",
       "\n",
       "    .dataframe thead th {\n",
       "        text-align: right;\n",
       "    }\n",
       "</style>\n",
       "<table border=\"1\" class=\"dataframe\">\n",
       "  <thead>\n",
       "    <tr style=\"text-align: right;\">\n",
       "      <th></th>\n",
       "      <th>age</th>\n",
       "      <th>workclass</th>\n",
       "      <th>education</th>\n",
       "      <th>educationno</th>\n",
       "      <th>maritalstatus</th>\n",
       "      <th>occupation</th>\n",
       "      <th>relationship</th>\n",
       "      <th>race</th>\n",
       "      <th>sex</th>\n",
       "      <th>capitalgain</th>\n",
       "      <th>capitalloss</th>\n",
       "      <th>hoursperweek</th>\n",
       "      <th>native</th>\n",
       "      <th>Salary</th>\n",
       "    </tr>\n",
       "  </thead>\n",
       "  <tbody>\n",
       "    <tr>\n",
       "      <th>0</th>\n",
       "      <td>39</td>\n",
       "      <td>State-gov</td>\n",
       "      <td>Bachelors</td>\n",
       "      <td>13</td>\n",
       "      <td>Never-married</td>\n",
       "      <td>Adm-clerical</td>\n",
       "      <td>Not-in-family</td>\n",
       "      <td>White</td>\n",
       "      <td>Male</td>\n",
       "      <td>2174</td>\n",
       "      <td>0</td>\n",
       "      <td>40</td>\n",
       "      <td>United-States</td>\n",
       "      <td>&lt;=50K</td>\n",
       "    </tr>\n",
       "    <tr>\n",
       "      <th>1</th>\n",
       "      <td>50</td>\n",
       "      <td>Self-emp-not-inc</td>\n",
       "      <td>Bachelors</td>\n",
       "      <td>13</td>\n",
       "      <td>Married-civ-spouse</td>\n",
       "      <td>Exec-managerial</td>\n",
       "      <td>Husband</td>\n",
       "      <td>White</td>\n",
       "      <td>Male</td>\n",
       "      <td>0</td>\n",
       "      <td>0</td>\n",
       "      <td>13</td>\n",
       "      <td>United-States</td>\n",
       "      <td>&lt;=50K</td>\n",
       "    </tr>\n",
       "    <tr>\n",
       "      <th>2</th>\n",
       "      <td>38</td>\n",
       "      <td>Private</td>\n",
       "      <td>HS-grad</td>\n",
       "      <td>9</td>\n",
       "      <td>Divorced</td>\n",
       "      <td>Handlers-cleaners</td>\n",
       "      <td>Not-in-family</td>\n",
       "      <td>White</td>\n",
       "      <td>Male</td>\n",
       "      <td>0</td>\n",
       "      <td>0</td>\n",
       "      <td>40</td>\n",
       "      <td>United-States</td>\n",
       "      <td>&lt;=50K</td>\n",
       "    </tr>\n",
       "    <tr>\n",
       "      <th>3</th>\n",
       "      <td>53</td>\n",
       "      <td>Private</td>\n",
       "      <td>11th</td>\n",
       "      <td>7</td>\n",
       "      <td>Married-civ-spouse</td>\n",
       "      <td>Handlers-cleaners</td>\n",
       "      <td>Husband</td>\n",
       "      <td>Black</td>\n",
       "      <td>Male</td>\n",
       "      <td>0</td>\n",
       "      <td>0</td>\n",
       "      <td>40</td>\n",
       "      <td>United-States</td>\n",
       "      <td>&lt;=50K</td>\n",
       "    </tr>\n",
       "    <tr>\n",
       "      <th>4</th>\n",
       "      <td>28</td>\n",
       "      <td>Private</td>\n",
       "      <td>Bachelors</td>\n",
       "      <td>13</td>\n",
       "      <td>Married-civ-spouse</td>\n",
       "      <td>Prof-specialty</td>\n",
       "      <td>Wife</td>\n",
       "      <td>Black</td>\n",
       "      <td>Female</td>\n",
       "      <td>0</td>\n",
       "      <td>0</td>\n",
       "      <td>40</td>\n",
       "      <td>Cuba</td>\n",
       "      <td>&lt;=50K</td>\n",
       "    </tr>\n",
       "    <tr>\n",
       "      <th>...</th>\n",
       "      <td>...</td>\n",
       "      <td>...</td>\n",
       "      <td>...</td>\n",
       "      <td>...</td>\n",
       "      <td>...</td>\n",
       "      <td>...</td>\n",
       "      <td>...</td>\n",
       "      <td>...</td>\n",
       "      <td>...</td>\n",
       "      <td>...</td>\n",
       "      <td>...</td>\n",
       "      <td>...</td>\n",
       "      <td>...</td>\n",
       "      <td>...</td>\n",
       "    </tr>\n",
       "    <tr>\n",
       "      <th>30156</th>\n",
       "      <td>27</td>\n",
       "      <td>Private</td>\n",
       "      <td>Assoc-acdm</td>\n",
       "      <td>12</td>\n",
       "      <td>Married-civ-spouse</td>\n",
       "      <td>Tech-support</td>\n",
       "      <td>Wife</td>\n",
       "      <td>White</td>\n",
       "      <td>Female</td>\n",
       "      <td>0</td>\n",
       "      <td>0</td>\n",
       "      <td>38</td>\n",
       "      <td>United-States</td>\n",
       "      <td>&lt;=50K</td>\n",
       "    </tr>\n",
       "    <tr>\n",
       "      <th>30157</th>\n",
       "      <td>40</td>\n",
       "      <td>Private</td>\n",
       "      <td>HS-grad</td>\n",
       "      <td>9</td>\n",
       "      <td>Married-civ-spouse</td>\n",
       "      <td>Machine-op-inspct</td>\n",
       "      <td>Husband</td>\n",
       "      <td>White</td>\n",
       "      <td>Male</td>\n",
       "      <td>0</td>\n",
       "      <td>0</td>\n",
       "      <td>40</td>\n",
       "      <td>United-States</td>\n",
       "      <td>&gt;50K</td>\n",
       "    </tr>\n",
       "    <tr>\n",
       "      <th>30158</th>\n",
       "      <td>58</td>\n",
       "      <td>Private</td>\n",
       "      <td>HS-grad</td>\n",
       "      <td>9</td>\n",
       "      <td>Widowed</td>\n",
       "      <td>Adm-clerical</td>\n",
       "      <td>Unmarried</td>\n",
       "      <td>White</td>\n",
       "      <td>Female</td>\n",
       "      <td>0</td>\n",
       "      <td>0</td>\n",
       "      <td>40</td>\n",
       "      <td>United-States</td>\n",
       "      <td>&lt;=50K</td>\n",
       "    </tr>\n",
       "    <tr>\n",
       "      <th>30159</th>\n",
       "      <td>22</td>\n",
       "      <td>Private</td>\n",
       "      <td>HS-grad</td>\n",
       "      <td>9</td>\n",
       "      <td>Never-married</td>\n",
       "      <td>Adm-clerical</td>\n",
       "      <td>Own-child</td>\n",
       "      <td>White</td>\n",
       "      <td>Male</td>\n",
       "      <td>0</td>\n",
       "      <td>0</td>\n",
       "      <td>20</td>\n",
       "      <td>United-States</td>\n",
       "      <td>&lt;=50K</td>\n",
       "    </tr>\n",
       "    <tr>\n",
       "      <th>30160</th>\n",
       "      <td>52</td>\n",
       "      <td>Self-emp-inc</td>\n",
       "      <td>HS-grad</td>\n",
       "      <td>9</td>\n",
       "      <td>Married-civ-spouse</td>\n",
       "      <td>Exec-managerial</td>\n",
       "      <td>Wife</td>\n",
       "      <td>White</td>\n",
       "      <td>Female</td>\n",
       "      <td>15024</td>\n",
       "      <td>0</td>\n",
       "      <td>40</td>\n",
       "      <td>United-States</td>\n",
       "      <td>&gt;50K</td>\n",
       "    </tr>\n",
       "  </tbody>\n",
       "</table>\n",
       "<p>30161 rows × 14 columns</p>\n",
       "</div>"
      ],
      "text/plain": [
       "       age          workclass    education  educationno        maritalstatus  \\\n",
       "0       39          State-gov    Bachelors           13        Never-married   \n",
       "1       50   Self-emp-not-inc    Bachelors           13   Married-civ-spouse   \n",
       "2       38            Private      HS-grad            9             Divorced   \n",
       "3       53            Private         11th            7   Married-civ-spouse   \n",
       "4       28            Private    Bachelors           13   Married-civ-spouse   \n",
       "...    ...                ...          ...          ...                  ...   \n",
       "30156   27            Private   Assoc-acdm           12   Married-civ-spouse   \n",
       "30157   40            Private      HS-grad            9   Married-civ-spouse   \n",
       "30158   58            Private      HS-grad            9              Widowed   \n",
       "30159   22            Private      HS-grad            9        Never-married   \n",
       "30160   52       Self-emp-inc      HS-grad            9   Married-civ-spouse   \n",
       "\n",
       "               occupation    relationship    race      sex  capitalgain  \\\n",
       "0            Adm-clerical   Not-in-family   White     Male         2174   \n",
       "1         Exec-managerial         Husband   White     Male            0   \n",
       "2       Handlers-cleaners   Not-in-family   White     Male            0   \n",
       "3       Handlers-cleaners         Husband   Black     Male            0   \n",
       "4          Prof-specialty            Wife   Black   Female            0   \n",
       "...                   ...             ...     ...      ...          ...   \n",
       "30156        Tech-support            Wife   White   Female            0   \n",
       "30157   Machine-op-inspct         Husband   White     Male            0   \n",
       "30158        Adm-clerical       Unmarried   White   Female            0   \n",
       "30159        Adm-clerical       Own-child   White     Male            0   \n",
       "30160     Exec-managerial            Wife   White   Female        15024   \n",
       "\n",
       "       capitalloss  hoursperweek          native  Salary  \n",
       "0                0            40   United-States   <=50K  \n",
       "1                0            13   United-States   <=50K  \n",
       "2                0            40   United-States   <=50K  \n",
       "3                0            40   United-States   <=50K  \n",
       "4                0            40            Cuba   <=50K  \n",
       "...            ...           ...             ...     ...  \n",
       "30156            0            38   United-States   <=50K  \n",
       "30157            0            40   United-States    >50K  \n",
       "30158            0            40   United-States   <=50K  \n",
       "30159            0            20   United-States   <=50K  \n",
       "30160            0            40   United-States    >50K  \n",
       "\n",
       "[30161 rows x 14 columns]"
      ]
     },
     "execution_count": 3,
     "metadata": {},
     "output_type": "execute_result"
    }
   ],
   "source": [
    "salarydata_train= pd.read_csv(r'C:\\Users\\poorn\\OneDrive\\Documents\\ExcelR\\Asssignment\\Assign_12_Naive_Bayes\\SalaryData_Train.csv')\n",
    "salarydata_train"
   ]
  },
  {
   "cell_type": "code",
   "execution_count": 4,
   "id": "d5756c5e",
   "metadata": {},
   "outputs": [
    {
     "data": {
      "text/html": [
       "<div>\n",
       "<style scoped>\n",
       "    .dataframe tbody tr th:only-of-type {\n",
       "        vertical-align: middle;\n",
       "    }\n",
       "\n",
       "    .dataframe tbody tr th {\n",
       "        vertical-align: top;\n",
       "    }\n",
       "\n",
       "    .dataframe thead th {\n",
       "        text-align: right;\n",
       "    }\n",
       "</style>\n",
       "<table border=\"1\" class=\"dataframe\">\n",
       "  <thead>\n",
       "    <tr style=\"text-align: right;\">\n",
       "      <th></th>\n",
       "      <th>age</th>\n",
       "      <th>workclass</th>\n",
       "      <th>education</th>\n",
       "      <th>educationno</th>\n",
       "      <th>maritalstatus</th>\n",
       "      <th>occupation</th>\n",
       "      <th>relationship</th>\n",
       "      <th>race</th>\n",
       "      <th>sex</th>\n",
       "      <th>capitalgain</th>\n",
       "      <th>capitalloss</th>\n",
       "      <th>hoursperweek</th>\n",
       "      <th>native</th>\n",
       "      <th>Salary</th>\n",
       "    </tr>\n",
       "  </thead>\n",
       "  <tbody>\n",
       "    <tr>\n",
       "      <th>0</th>\n",
       "      <td>25</td>\n",
       "      <td>Private</td>\n",
       "      <td>11th</td>\n",
       "      <td>7</td>\n",
       "      <td>Never-married</td>\n",
       "      <td>Machine-op-inspct</td>\n",
       "      <td>Own-child</td>\n",
       "      <td>Black</td>\n",
       "      <td>Male</td>\n",
       "      <td>0</td>\n",
       "      <td>0</td>\n",
       "      <td>40</td>\n",
       "      <td>United-States</td>\n",
       "      <td>&lt;=50K</td>\n",
       "    </tr>\n",
       "    <tr>\n",
       "      <th>1</th>\n",
       "      <td>38</td>\n",
       "      <td>Private</td>\n",
       "      <td>HS-grad</td>\n",
       "      <td>9</td>\n",
       "      <td>Married-civ-spouse</td>\n",
       "      <td>Farming-fishing</td>\n",
       "      <td>Husband</td>\n",
       "      <td>White</td>\n",
       "      <td>Male</td>\n",
       "      <td>0</td>\n",
       "      <td>0</td>\n",
       "      <td>50</td>\n",
       "      <td>United-States</td>\n",
       "      <td>&lt;=50K</td>\n",
       "    </tr>\n",
       "    <tr>\n",
       "      <th>2</th>\n",
       "      <td>28</td>\n",
       "      <td>Local-gov</td>\n",
       "      <td>Assoc-acdm</td>\n",
       "      <td>12</td>\n",
       "      <td>Married-civ-spouse</td>\n",
       "      <td>Protective-serv</td>\n",
       "      <td>Husband</td>\n",
       "      <td>White</td>\n",
       "      <td>Male</td>\n",
       "      <td>0</td>\n",
       "      <td>0</td>\n",
       "      <td>40</td>\n",
       "      <td>United-States</td>\n",
       "      <td>&gt;50K</td>\n",
       "    </tr>\n",
       "    <tr>\n",
       "      <th>3</th>\n",
       "      <td>44</td>\n",
       "      <td>Private</td>\n",
       "      <td>Some-college</td>\n",
       "      <td>10</td>\n",
       "      <td>Married-civ-spouse</td>\n",
       "      <td>Machine-op-inspct</td>\n",
       "      <td>Husband</td>\n",
       "      <td>Black</td>\n",
       "      <td>Male</td>\n",
       "      <td>7688</td>\n",
       "      <td>0</td>\n",
       "      <td>40</td>\n",
       "      <td>United-States</td>\n",
       "      <td>&gt;50K</td>\n",
       "    </tr>\n",
       "    <tr>\n",
       "      <th>4</th>\n",
       "      <td>34</td>\n",
       "      <td>Private</td>\n",
       "      <td>10th</td>\n",
       "      <td>6</td>\n",
       "      <td>Never-married</td>\n",
       "      <td>Other-service</td>\n",
       "      <td>Not-in-family</td>\n",
       "      <td>White</td>\n",
       "      <td>Male</td>\n",
       "      <td>0</td>\n",
       "      <td>0</td>\n",
       "      <td>30</td>\n",
       "      <td>United-States</td>\n",
       "      <td>&lt;=50K</td>\n",
       "    </tr>\n",
       "    <tr>\n",
       "      <th>...</th>\n",
       "      <td>...</td>\n",
       "      <td>...</td>\n",
       "      <td>...</td>\n",
       "      <td>...</td>\n",
       "      <td>...</td>\n",
       "      <td>...</td>\n",
       "      <td>...</td>\n",
       "      <td>...</td>\n",
       "      <td>...</td>\n",
       "      <td>...</td>\n",
       "      <td>...</td>\n",
       "      <td>...</td>\n",
       "      <td>...</td>\n",
       "      <td>...</td>\n",
       "    </tr>\n",
       "    <tr>\n",
       "      <th>15055</th>\n",
       "      <td>33</td>\n",
       "      <td>Private</td>\n",
       "      <td>Bachelors</td>\n",
       "      <td>13</td>\n",
       "      <td>Never-married</td>\n",
       "      <td>Prof-specialty</td>\n",
       "      <td>Own-child</td>\n",
       "      <td>White</td>\n",
       "      <td>Male</td>\n",
       "      <td>0</td>\n",
       "      <td>0</td>\n",
       "      <td>40</td>\n",
       "      <td>United-States</td>\n",
       "      <td>&lt;=50K</td>\n",
       "    </tr>\n",
       "    <tr>\n",
       "      <th>15056</th>\n",
       "      <td>39</td>\n",
       "      <td>Private</td>\n",
       "      <td>Bachelors</td>\n",
       "      <td>13</td>\n",
       "      <td>Divorced</td>\n",
       "      <td>Prof-specialty</td>\n",
       "      <td>Not-in-family</td>\n",
       "      <td>White</td>\n",
       "      <td>Female</td>\n",
       "      <td>0</td>\n",
       "      <td>0</td>\n",
       "      <td>36</td>\n",
       "      <td>United-States</td>\n",
       "      <td>&lt;=50K</td>\n",
       "    </tr>\n",
       "    <tr>\n",
       "      <th>15057</th>\n",
       "      <td>38</td>\n",
       "      <td>Private</td>\n",
       "      <td>Bachelors</td>\n",
       "      <td>13</td>\n",
       "      <td>Married-civ-spouse</td>\n",
       "      <td>Prof-specialty</td>\n",
       "      <td>Husband</td>\n",
       "      <td>White</td>\n",
       "      <td>Male</td>\n",
       "      <td>0</td>\n",
       "      <td>0</td>\n",
       "      <td>50</td>\n",
       "      <td>United-States</td>\n",
       "      <td>&lt;=50K</td>\n",
       "    </tr>\n",
       "    <tr>\n",
       "      <th>15058</th>\n",
       "      <td>44</td>\n",
       "      <td>Private</td>\n",
       "      <td>Bachelors</td>\n",
       "      <td>13</td>\n",
       "      <td>Divorced</td>\n",
       "      <td>Adm-clerical</td>\n",
       "      <td>Own-child</td>\n",
       "      <td>Asian-Pac-Islander</td>\n",
       "      <td>Male</td>\n",
       "      <td>5455</td>\n",
       "      <td>0</td>\n",
       "      <td>40</td>\n",
       "      <td>United-States</td>\n",
       "      <td>&lt;=50K</td>\n",
       "    </tr>\n",
       "    <tr>\n",
       "      <th>15059</th>\n",
       "      <td>35</td>\n",
       "      <td>Self-emp-inc</td>\n",
       "      <td>Bachelors</td>\n",
       "      <td>13</td>\n",
       "      <td>Married-civ-spouse</td>\n",
       "      <td>Exec-managerial</td>\n",
       "      <td>Husband</td>\n",
       "      <td>White</td>\n",
       "      <td>Male</td>\n",
       "      <td>0</td>\n",
       "      <td>0</td>\n",
       "      <td>60</td>\n",
       "      <td>United-States</td>\n",
       "      <td>&gt;50K</td>\n",
       "    </tr>\n",
       "  </tbody>\n",
       "</table>\n",
       "<p>15060 rows × 14 columns</p>\n",
       "</div>"
      ],
      "text/plain": [
       "       age      workclass      education  educationno        maritalstatus  \\\n",
       "0       25        Private           11th            7        Never-married   \n",
       "1       38        Private        HS-grad            9   Married-civ-spouse   \n",
       "2       28      Local-gov     Assoc-acdm           12   Married-civ-spouse   \n",
       "3       44        Private   Some-college           10   Married-civ-spouse   \n",
       "4       34        Private           10th            6        Never-married   \n",
       "...    ...            ...            ...          ...                  ...   \n",
       "15055   33        Private      Bachelors           13        Never-married   \n",
       "15056   39        Private      Bachelors           13             Divorced   \n",
       "15057   38        Private      Bachelors           13   Married-civ-spouse   \n",
       "15058   44        Private      Bachelors           13             Divorced   \n",
       "15059   35   Self-emp-inc      Bachelors           13   Married-civ-spouse   \n",
       "\n",
       "               occupation    relationship                 race      sex  \\\n",
       "0       Machine-op-inspct       Own-child                Black     Male   \n",
       "1         Farming-fishing         Husband                White     Male   \n",
       "2         Protective-serv         Husband                White     Male   \n",
       "3       Machine-op-inspct         Husband                Black     Male   \n",
       "4           Other-service   Not-in-family                White     Male   \n",
       "...                   ...             ...                  ...      ...   \n",
       "15055      Prof-specialty       Own-child                White     Male   \n",
       "15056      Prof-specialty   Not-in-family                White   Female   \n",
       "15057      Prof-specialty         Husband                White     Male   \n",
       "15058        Adm-clerical       Own-child   Asian-Pac-Islander     Male   \n",
       "15059     Exec-managerial         Husband                White     Male   \n",
       "\n",
       "       capitalgain  capitalloss  hoursperweek          native  Salary  \n",
       "0                0            0            40   United-States   <=50K  \n",
       "1                0            0            50   United-States   <=50K  \n",
       "2                0            0            40   United-States    >50K  \n",
       "3             7688            0            40   United-States    >50K  \n",
       "4                0            0            30   United-States   <=50K  \n",
       "...            ...          ...           ...             ...     ...  \n",
       "15055            0            0            40   United-States   <=50K  \n",
       "15056            0            0            36   United-States   <=50K  \n",
       "15057            0            0            50   United-States   <=50K  \n",
       "15058         5455            0            40   United-States   <=50K  \n",
       "15059            0            0            60   United-States    >50K  \n",
       "\n",
       "[15060 rows x 14 columns]"
      ]
     },
     "execution_count": 4,
     "metadata": {},
     "output_type": "execute_result"
    }
   ],
   "source": [
    "salarydata_test= pd.read_csv(r'C:\\Users\\poorn\\OneDrive\\Documents\\ExcelR\\Asssignment\\Assign_12_Naive_Bayes\\SalaryData_Test.csv')\n",
    "salarydata_test"
   ]
  },
  {
   "cell_type": "markdown",
   "id": "4598a996",
   "metadata": {},
   "source": [
    "EDA"
   ]
  },
  {
   "cell_type": "code",
   "execution_count": 5,
   "id": "509ab770",
   "metadata": {},
   "outputs": [
    {
     "data": {
      "text/plain": [
       "(30161, 14)"
      ]
     },
     "execution_count": 5,
     "metadata": {},
     "output_type": "execute_result"
    }
   ],
   "source": [
    "salarydata_train.shape"
   ]
  },
  {
   "cell_type": "code",
   "execution_count": 6,
   "id": "925c2f40",
   "metadata": {},
   "outputs": [
    {
     "data": {
      "text/plain": [
       "(15060, 14)"
      ]
     },
     "execution_count": 6,
     "metadata": {},
     "output_type": "execute_result"
    }
   ],
   "source": [
    "salarydata_test.shape"
   ]
  },
  {
   "cell_type": "code",
   "execution_count": 7,
   "id": "2b87e2fb",
   "metadata": {},
   "outputs": [
    {
     "name": "stdout",
     "output_type": "stream",
     "text": [
      "<class 'pandas.core.frame.DataFrame'>\n",
      "RangeIndex: 30161 entries, 0 to 30160\n",
      "Data columns (total 14 columns):\n",
      " #   Column         Non-Null Count  Dtype \n",
      "---  ------         --------------  ----- \n",
      " 0   age            30161 non-null  int64 \n",
      " 1   workclass      30161 non-null  object\n",
      " 2   education      30161 non-null  object\n",
      " 3   educationno    30161 non-null  int64 \n",
      " 4   maritalstatus  30161 non-null  object\n",
      " 5   occupation     30161 non-null  object\n",
      " 6   relationship   30161 non-null  object\n",
      " 7   race           30161 non-null  object\n",
      " 8   sex            30161 non-null  object\n",
      " 9   capitalgain    30161 non-null  int64 \n",
      " 10  capitalloss    30161 non-null  int64 \n",
      " 11  hoursperweek   30161 non-null  int64 \n",
      " 12  native         30161 non-null  object\n",
      " 13  Salary         30161 non-null  object\n",
      "dtypes: int64(5), object(9)\n",
      "memory usage: 3.2+ MB\n"
     ]
    }
   ],
   "source": [
    "salarydata_train.info()"
   ]
  },
  {
   "cell_type": "code",
   "execution_count": 8,
   "id": "63f0df3d",
   "metadata": {},
   "outputs": [
    {
     "data": {
      "text/html": [
       "<div>\n",
       "<style scoped>\n",
       "    .dataframe tbody tr th:only-of-type {\n",
       "        vertical-align: middle;\n",
       "    }\n",
       "\n",
       "    .dataframe tbody tr th {\n",
       "        vertical-align: top;\n",
       "    }\n",
       "\n",
       "    .dataframe thead th {\n",
       "        text-align: right;\n",
       "    }\n",
       "</style>\n",
       "<table border=\"1\" class=\"dataframe\">\n",
       "  <thead>\n",
       "    <tr style=\"text-align: right;\">\n",
       "      <th></th>\n",
       "      <th>age</th>\n",
       "      <th>educationno</th>\n",
       "      <th>capitalgain</th>\n",
       "      <th>capitalloss</th>\n",
       "      <th>hoursperweek</th>\n",
       "    </tr>\n",
       "  </thead>\n",
       "  <tbody>\n",
       "    <tr>\n",
       "      <th>count</th>\n",
       "      <td>30161.000000</td>\n",
       "      <td>30161.000000</td>\n",
       "      <td>30161.000000</td>\n",
       "      <td>30161.000000</td>\n",
       "      <td>30161.000000</td>\n",
       "    </tr>\n",
       "    <tr>\n",
       "      <th>mean</th>\n",
       "      <td>38.438115</td>\n",
       "      <td>10.121316</td>\n",
       "      <td>1092.044064</td>\n",
       "      <td>88.302311</td>\n",
       "      <td>40.931269</td>\n",
       "    </tr>\n",
       "    <tr>\n",
       "      <th>std</th>\n",
       "      <td>13.134830</td>\n",
       "      <td>2.550037</td>\n",
       "      <td>7406.466611</td>\n",
       "      <td>404.121321</td>\n",
       "      <td>11.980182</td>\n",
       "    </tr>\n",
       "    <tr>\n",
       "      <th>min</th>\n",
       "      <td>17.000000</td>\n",
       "      <td>1.000000</td>\n",
       "      <td>0.000000</td>\n",
       "      <td>0.000000</td>\n",
       "      <td>1.000000</td>\n",
       "    </tr>\n",
       "    <tr>\n",
       "      <th>25%</th>\n",
       "      <td>28.000000</td>\n",
       "      <td>9.000000</td>\n",
       "      <td>0.000000</td>\n",
       "      <td>0.000000</td>\n",
       "      <td>40.000000</td>\n",
       "    </tr>\n",
       "    <tr>\n",
       "      <th>50%</th>\n",
       "      <td>37.000000</td>\n",
       "      <td>10.000000</td>\n",
       "      <td>0.000000</td>\n",
       "      <td>0.000000</td>\n",
       "      <td>40.000000</td>\n",
       "    </tr>\n",
       "    <tr>\n",
       "      <th>75%</th>\n",
       "      <td>47.000000</td>\n",
       "      <td>13.000000</td>\n",
       "      <td>0.000000</td>\n",
       "      <td>0.000000</td>\n",
       "      <td>45.000000</td>\n",
       "    </tr>\n",
       "    <tr>\n",
       "      <th>max</th>\n",
       "      <td>90.000000</td>\n",
       "      <td>16.000000</td>\n",
       "      <td>99999.000000</td>\n",
       "      <td>4356.000000</td>\n",
       "      <td>99.000000</td>\n",
       "    </tr>\n",
       "  </tbody>\n",
       "</table>\n",
       "</div>"
      ],
      "text/plain": [
       "                age   educationno   capitalgain   capitalloss  hoursperweek\n",
       "count  30161.000000  30161.000000  30161.000000  30161.000000  30161.000000\n",
       "mean      38.438115     10.121316   1092.044064     88.302311     40.931269\n",
       "std       13.134830      2.550037   7406.466611    404.121321     11.980182\n",
       "min       17.000000      1.000000      0.000000      0.000000      1.000000\n",
       "25%       28.000000      9.000000      0.000000      0.000000     40.000000\n",
       "50%       37.000000     10.000000      0.000000      0.000000     40.000000\n",
       "75%       47.000000     13.000000      0.000000      0.000000     45.000000\n",
       "max       90.000000     16.000000  99999.000000   4356.000000     99.000000"
      ]
     },
     "execution_count": 8,
     "metadata": {},
     "output_type": "execute_result"
    }
   ],
   "source": [
    "salarydata_train.describe()"
   ]
  },
  {
   "cell_type": "code",
   "execution_count": 9,
   "id": "20f95fd5",
   "metadata": {},
   "outputs": [
    {
     "name": "stdout",
     "output_type": "stream",
     "text": [
      "<class 'pandas.core.frame.DataFrame'>\n",
      "RangeIndex: 15060 entries, 0 to 15059\n",
      "Data columns (total 14 columns):\n",
      " #   Column         Non-Null Count  Dtype \n",
      "---  ------         --------------  ----- \n",
      " 0   age            15060 non-null  int64 \n",
      " 1   workclass      15060 non-null  object\n",
      " 2   education      15060 non-null  object\n",
      " 3   educationno    15060 non-null  int64 \n",
      " 4   maritalstatus  15060 non-null  object\n",
      " 5   occupation     15060 non-null  object\n",
      " 6   relationship   15060 non-null  object\n",
      " 7   race           15060 non-null  object\n",
      " 8   sex            15060 non-null  object\n",
      " 9   capitalgain    15060 non-null  int64 \n",
      " 10  capitalloss    15060 non-null  int64 \n",
      " 11  hoursperweek   15060 non-null  int64 \n",
      " 12  native         15060 non-null  object\n",
      " 13  Salary         15060 non-null  object\n",
      "dtypes: int64(5), object(9)\n",
      "memory usage: 1.6+ MB\n"
     ]
    }
   ],
   "source": [
    "salarydata_test.info()"
   ]
  },
  {
   "cell_type": "code",
   "execution_count": 11,
   "id": "0932c3be",
   "metadata": {},
   "outputs": [
    {
     "data": {
      "text/html": [
       "<div>\n",
       "<style scoped>\n",
       "    .dataframe tbody tr th:only-of-type {\n",
       "        vertical-align: middle;\n",
       "    }\n",
       "\n",
       "    .dataframe tbody tr th {\n",
       "        vertical-align: top;\n",
       "    }\n",
       "\n",
       "    .dataframe thead th {\n",
       "        text-align: right;\n",
       "    }\n",
       "</style>\n",
       "<table border=\"1\" class=\"dataframe\">\n",
       "  <thead>\n",
       "    <tr style=\"text-align: right;\">\n",
       "      <th></th>\n",
       "      <th>age</th>\n",
       "      <th>educationno</th>\n",
       "      <th>capitalgain</th>\n",
       "      <th>capitalloss</th>\n",
       "      <th>hoursperweek</th>\n",
       "    </tr>\n",
       "  </thead>\n",
       "  <tbody>\n",
       "    <tr>\n",
       "      <th>count</th>\n",
       "      <td>30161.000000</td>\n",
       "      <td>30161.000000</td>\n",
       "      <td>30161.000000</td>\n",
       "      <td>30161.000000</td>\n",
       "      <td>30161.000000</td>\n",
       "    </tr>\n",
       "    <tr>\n",
       "      <th>mean</th>\n",
       "      <td>38.438115</td>\n",
       "      <td>10.121316</td>\n",
       "      <td>1092.044064</td>\n",
       "      <td>88.302311</td>\n",
       "      <td>40.931269</td>\n",
       "    </tr>\n",
       "    <tr>\n",
       "      <th>std</th>\n",
       "      <td>13.134830</td>\n",
       "      <td>2.550037</td>\n",
       "      <td>7406.466611</td>\n",
       "      <td>404.121321</td>\n",
       "      <td>11.980182</td>\n",
       "    </tr>\n",
       "    <tr>\n",
       "      <th>min</th>\n",
       "      <td>17.000000</td>\n",
       "      <td>1.000000</td>\n",
       "      <td>0.000000</td>\n",
       "      <td>0.000000</td>\n",
       "      <td>1.000000</td>\n",
       "    </tr>\n",
       "    <tr>\n",
       "      <th>25%</th>\n",
       "      <td>28.000000</td>\n",
       "      <td>9.000000</td>\n",
       "      <td>0.000000</td>\n",
       "      <td>0.000000</td>\n",
       "      <td>40.000000</td>\n",
       "    </tr>\n",
       "    <tr>\n",
       "      <th>50%</th>\n",
       "      <td>37.000000</td>\n",
       "      <td>10.000000</td>\n",
       "      <td>0.000000</td>\n",
       "      <td>0.000000</td>\n",
       "      <td>40.000000</td>\n",
       "    </tr>\n",
       "    <tr>\n",
       "      <th>75%</th>\n",
       "      <td>47.000000</td>\n",
       "      <td>13.000000</td>\n",
       "      <td>0.000000</td>\n",
       "      <td>0.000000</td>\n",
       "      <td>45.000000</td>\n",
       "    </tr>\n",
       "    <tr>\n",
       "      <th>max</th>\n",
       "      <td>90.000000</td>\n",
       "      <td>16.000000</td>\n",
       "      <td>99999.000000</td>\n",
       "      <td>4356.000000</td>\n",
       "      <td>99.000000</td>\n",
       "    </tr>\n",
       "  </tbody>\n",
       "</table>\n",
       "</div>"
      ],
      "text/plain": [
       "                age   educationno   capitalgain   capitalloss  hoursperweek\n",
       "count  30161.000000  30161.000000  30161.000000  30161.000000  30161.000000\n",
       "mean      38.438115     10.121316   1092.044064     88.302311     40.931269\n",
       "std       13.134830      2.550037   7406.466611    404.121321     11.980182\n",
       "min       17.000000      1.000000      0.000000      0.000000      1.000000\n",
       "25%       28.000000      9.000000      0.000000      0.000000     40.000000\n",
       "50%       37.000000     10.000000      0.000000      0.000000     40.000000\n",
       "75%       47.000000     13.000000      0.000000      0.000000     45.000000\n",
       "max       90.000000     16.000000  99999.000000   4356.000000     99.000000"
      ]
     },
     "execution_count": 11,
     "metadata": {},
     "output_type": "execute_result"
    }
   ],
   "source": [
    "salarydata_train.describe()"
   ]
  },
  {
   "cell_type": "code",
   "execution_count": 13,
   "id": "593b95b0",
   "metadata": {},
   "outputs": [
    {
     "data": {
      "text/plain": [
       "age              False\n",
       "workclass        False\n",
       "education        False\n",
       "educationno      False\n",
       "maritalstatus    False\n",
       "occupation       False\n",
       "relationship     False\n",
       "race             False\n",
       "sex              False\n",
       "capitalgain      False\n",
       "capitalloss      False\n",
       "hoursperweek     False\n",
       "native           False\n",
       "Salary           False\n",
       "dtype: bool"
      ]
     },
     "execution_count": 13,
     "metadata": {},
     "output_type": "execute_result"
    }
   ],
   "source": [
    "salarydata_train.isnull().any()"
   ]
  },
  {
   "cell_type": "code",
   "execution_count": 15,
   "id": "ee13b1e6",
   "metadata": {},
   "outputs": [
    {
     "data": {
      "text/plain": [
       "(30161,)"
      ]
     },
     "execution_count": 15,
     "metadata": {},
     "output_type": "execute_result"
    }
   ],
   "source": [
    "salarydata_train.duplicated().shape"
   ]
  },
  {
   "cell_type": "code",
   "execution_count": 16,
   "id": "d9d08dec",
   "metadata": {},
   "outputs": [
    {
     "data": {
      "text/html": [
       "<div>\n",
       "<style scoped>\n",
       "    .dataframe tbody tr th:only-of-type {\n",
       "        vertical-align: middle;\n",
       "    }\n",
       "\n",
       "    .dataframe tbody tr th {\n",
       "        vertical-align: top;\n",
       "    }\n",
       "\n",
       "    .dataframe thead th {\n",
       "        text-align: right;\n",
       "    }\n",
       "</style>\n",
       "<table border=\"1\" class=\"dataframe\">\n",
       "  <thead>\n",
       "    <tr style=\"text-align: right;\">\n",
       "      <th></th>\n",
       "      <th>age</th>\n",
       "      <th>workclass</th>\n",
       "      <th>education</th>\n",
       "      <th>educationno</th>\n",
       "      <th>maritalstatus</th>\n",
       "      <th>occupation</th>\n",
       "      <th>relationship</th>\n",
       "      <th>race</th>\n",
       "      <th>sex</th>\n",
       "      <th>capitalgain</th>\n",
       "      <th>capitalloss</th>\n",
       "      <th>hoursperweek</th>\n",
       "      <th>native</th>\n",
       "      <th>Salary</th>\n",
       "    </tr>\n",
       "  </thead>\n",
       "  <tbody>\n",
       "    <tr>\n",
       "      <th>326</th>\n",
       "      <td>33</td>\n",
       "      <td>Private</td>\n",
       "      <td>Bachelors</td>\n",
       "      <td>13</td>\n",
       "      <td>Married-civ-spouse</td>\n",
       "      <td>Exec-managerial</td>\n",
       "      <td>Husband</td>\n",
       "      <td>White</td>\n",
       "      <td>Male</td>\n",
       "      <td>0</td>\n",
       "      <td>0</td>\n",
       "      <td>40</td>\n",
       "      <td>United-States</td>\n",
       "      <td>&gt;50K</td>\n",
       "    </tr>\n",
       "    <tr>\n",
       "      <th>364</th>\n",
       "      <td>27</td>\n",
       "      <td>Private</td>\n",
       "      <td>Bachelors</td>\n",
       "      <td>13</td>\n",
       "      <td>Never-married</td>\n",
       "      <td>Craft-repair</td>\n",
       "      <td>Not-in-family</td>\n",
       "      <td>White</td>\n",
       "      <td>Male</td>\n",
       "      <td>0</td>\n",
       "      <td>0</td>\n",
       "      <td>50</td>\n",
       "      <td>United-States</td>\n",
       "      <td>&lt;=50K</td>\n",
       "    </tr>\n",
       "    <tr>\n",
       "      <th>518</th>\n",
       "      <td>24</td>\n",
       "      <td>Private</td>\n",
       "      <td>HS-grad</td>\n",
       "      <td>9</td>\n",
       "      <td>Never-married</td>\n",
       "      <td>Handlers-cleaners</td>\n",
       "      <td>Unmarried</td>\n",
       "      <td>Black</td>\n",
       "      <td>Female</td>\n",
       "      <td>0</td>\n",
       "      <td>0</td>\n",
       "      <td>40</td>\n",
       "      <td>United-States</td>\n",
       "      <td>&lt;=50K</td>\n",
       "    </tr>\n",
       "    <tr>\n",
       "      <th>525</th>\n",
       "      <td>24</td>\n",
       "      <td>Private</td>\n",
       "      <td>HS-grad</td>\n",
       "      <td>9</td>\n",
       "      <td>Never-married</td>\n",
       "      <td>Craft-repair</td>\n",
       "      <td>Own-child</td>\n",
       "      <td>White</td>\n",
       "      <td>Male</td>\n",
       "      <td>0</td>\n",
       "      <td>0</td>\n",
       "      <td>40</td>\n",
       "      <td>United-States</td>\n",
       "      <td>&lt;=50K</td>\n",
       "    </tr>\n",
       "    <tr>\n",
       "      <th>619</th>\n",
       "      <td>33</td>\n",
       "      <td>Private</td>\n",
       "      <td>Bachelors</td>\n",
       "      <td>13</td>\n",
       "      <td>Married-civ-spouse</td>\n",
       "      <td>Exec-managerial</td>\n",
       "      <td>Husband</td>\n",
       "      <td>White</td>\n",
       "      <td>Male</td>\n",
       "      <td>0</td>\n",
       "      <td>0</td>\n",
       "      <td>40</td>\n",
       "      <td>United-States</td>\n",
       "      <td>&gt;50K</td>\n",
       "    </tr>\n",
       "    <tr>\n",
       "      <th>...</th>\n",
       "      <td>...</td>\n",
       "      <td>...</td>\n",
       "      <td>...</td>\n",
       "      <td>...</td>\n",
       "      <td>...</td>\n",
       "      <td>...</td>\n",
       "      <td>...</td>\n",
       "      <td>...</td>\n",
       "      <td>...</td>\n",
       "      <td>...</td>\n",
       "      <td>...</td>\n",
       "      <td>...</td>\n",
       "      <td>...</td>\n",
       "      <td>...</td>\n",
       "    </tr>\n",
       "    <tr>\n",
       "      <th>30110</th>\n",
       "      <td>47</td>\n",
       "      <td>Private</td>\n",
       "      <td>HS-grad</td>\n",
       "      <td>9</td>\n",
       "      <td>Married-civ-spouse</td>\n",
       "      <td>Craft-repair</td>\n",
       "      <td>Husband</td>\n",
       "      <td>White</td>\n",
       "      <td>Male</td>\n",
       "      <td>0</td>\n",
       "      <td>0</td>\n",
       "      <td>40</td>\n",
       "      <td>United-States</td>\n",
       "      <td>&lt;=50K</td>\n",
       "    </tr>\n",
       "    <tr>\n",
       "      <th>30118</th>\n",
       "      <td>20</td>\n",
       "      <td>Private</td>\n",
       "      <td>HS-grad</td>\n",
       "      <td>9</td>\n",
       "      <td>Never-married</td>\n",
       "      <td>Machine-op-inspct</td>\n",
       "      <td>Own-child</td>\n",
       "      <td>White</td>\n",
       "      <td>Male</td>\n",
       "      <td>0</td>\n",
       "      <td>0</td>\n",
       "      <td>40</td>\n",
       "      <td>United-States</td>\n",
       "      <td>&lt;=50K</td>\n",
       "    </tr>\n",
       "    <tr>\n",
       "      <th>30132</th>\n",
       "      <td>22</td>\n",
       "      <td>Private</td>\n",
       "      <td>Some-college</td>\n",
       "      <td>10</td>\n",
       "      <td>Never-married</td>\n",
       "      <td>Adm-clerical</td>\n",
       "      <td>Own-child</td>\n",
       "      <td>White</td>\n",
       "      <td>Male</td>\n",
       "      <td>0</td>\n",
       "      <td>0</td>\n",
       "      <td>40</td>\n",
       "      <td>United-States</td>\n",
       "      <td>&lt;=50K</td>\n",
       "    </tr>\n",
       "    <tr>\n",
       "      <th>30157</th>\n",
       "      <td>40</td>\n",
       "      <td>Private</td>\n",
       "      <td>HS-grad</td>\n",
       "      <td>9</td>\n",
       "      <td>Married-civ-spouse</td>\n",
       "      <td>Machine-op-inspct</td>\n",
       "      <td>Husband</td>\n",
       "      <td>White</td>\n",
       "      <td>Male</td>\n",
       "      <td>0</td>\n",
       "      <td>0</td>\n",
       "      <td>40</td>\n",
       "      <td>United-States</td>\n",
       "      <td>&gt;50K</td>\n",
       "    </tr>\n",
       "    <tr>\n",
       "      <th>30159</th>\n",
       "      <td>22</td>\n",
       "      <td>Private</td>\n",
       "      <td>HS-grad</td>\n",
       "      <td>9</td>\n",
       "      <td>Never-married</td>\n",
       "      <td>Adm-clerical</td>\n",
       "      <td>Own-child</td>\n",
       "      <td>White</td>\n",
       "      <td>Male</td>\n",
       "      <td>0</td>\n",
       "      <td>0</td>\n",
       "      <td>20</td>\n",
       "      <td>United-States</td>\n",
       "      <td>&lt;=50K</td>\n",
       "    </tr>\n",
       "  </tbody>\n",
       "</table>\n",
       "<p>3258 rows × 14 columns</p>\n",
       "</div>"
      ],
      "text/plain": [
       "       age workclass      education  educationno        maritalstatus  \\\n",
       "326     33   Private      Bachelors           13   Married-civ-spouse   \n",
       "364     27   Private      Bachelors           13        Never-married   \n",
       "518     24   Private        HS-grad            9        Never-married   \n",
       "525     24   Private        HS-grad            9        Never-married   \n",
       "619     33   Private      Bachelors           13   Married-civ-spouse   \n",
       "...    ...       ...            ...          ...                  ...   \n",
       "30110   47   Private        HS-grad            9   Married-civ-spouse   \n",
       "30118   20   Private        HS-grad            9        Never-married   \n",
       "30132   22   Private   Some-college           10        Never-married   \n",
       "30157   40   Private        HS-grad            9   Married-civ-spouse   \n",
       "30159   22   Private        HS-grad            9        Never-married   \n",
       "\n",
       "               occupation    relationship    race      sex  capitalgain  \\\n",
       "326       Exec-managerial         Husband   White     Male            0   \n",
       "364          Craft-repair   Not-in-family   White     Male            0   \n",
       "518     Handlers-cleaners       Unmarried   Black   Female            0   \n",
       "525          Craft-repair       Own-child   White     Male            0   \n",
       "619       Exec-managerial         Husband   White     Male            0   \n",
       "...                   ...             ...     ...      ...          ...   \n",
       "30110        Craft-repair         Husband   White     Male            0   \n",
       "30118   Machine-op-inspct       Own-child   White     Male            0   \n",
       "30132        Adm-clerical       Own-child   White     Male            0   \n",
       "30157   Machine-op-inspct         Husband   White     Male            0   \n",
       "30159        Adm-clerical       Own-child   White     Male            0   \n",
       "\n",
       "       capitalloss  hoursperweek          native  Salary  \n",
       "326              0            40   United-States    >50K  \n",
       "364              0            50   United-States   <=50K  \n",
       "518              0            40   United-States   <=50K  \n",
       "525              0            40   United-States   <=50K  \n",
       "619              0            40   United-States    >50K  \n",
       "...            ...           ...             ...     ...  \n",
       "30110            0            40   United-States   <=50K  \n",
       "30118            0            40   United-States   <=50K  \n",
       "30132            0            40   United-States   <=50K  \n",
       "30157            0            40   United-States    >50K  \n",
       "30159            0            20   United-States   <=50K  \n",
       "\n",
       "[3258 rows x 14 columns]"
      ]
     },
     "execution_count": 16,
     "metadata": {},
     "output_type": "execute_result"
    }
   ],
   "source": [
    "salarydata_train[salarydata_train.duplicated()]"
   ]
  },
  {
   "cell_type": "code",
   "execution_count": 24,
   "id": "ad5acaef",
   "metadata": {},
   "outputs": [
    {
     "data": {
      "text/html": [
       "<div>\n",
       "<style scoped>\n",
       "    .dataframe tbody tr th:only-of-type {\n",
       "        vertical-align: middle;\n",
       "    }\n",
       "\n",
       "    .dataframe tbody tr th {\n",
       "        vertical-align: top;\n",
       "    }\n",
       "\n",
       "    .dataframe thead th {\n",
       "        text-align: right;\n",
       "    }\n",
       "</style>\n",
       "<table border=\"1\" class=\"dataframe\">\n",
       "  <thead>\n",
       "    <tr style=\"text-align: right;\">\n",
       "      <th></th>\n",
       "      <th>age</th>\n",
       "      <th>workclass</th>\n",
       "      <th>education</th>\n",
       "      <th>educationno</th>\n",
       "      <th>maritalstatus</th>\n",
       "      <th>occupation</th>\n",
       "      <th>relationship</th>\n",
       "      <th>race</th>\n",
       "      <th>sex</th>\n",
       "      <th>capitalgain</th>\n",
       "      <th>capitalloss</th>\n",
       "      <th>hoursperweek</th>\n",
       "      <th>native</th>\n",
       "      <th>Salary</th>\n",
       "    </tr>\n",
       "  </thead>\n",
       "  <tbody>\n",
       "    <tr>\n",
       "      <th>0</th>\n",
       "      <td>39</td>\n",
       "      <td>State-gov</td>\n",
       "      <td>Bachelors</td>\n",
       "      <td>13</td>\n",
       "      <td>Never-married</td>\n",
       "      <td>Adm-clerical</td>\n",
       "      <td>Not-in-family</td>\n",
       "      <td>White</td>\n",
       "      <td>Male</td>\n",
       "      <td>2174</td>\n",
       "      <td>0</td>\n",
       "      <td>40</td>\n",
       "      <td>United-States</td>\n",
       "      <td>&lt;=50K</td>\n",
       "    </tr>\n",
       "    <tr>\n",
       "      <th>1</th>\n",
       "      <td>50</td>\n",
       "      <td>Self-emp-not-inc</td>\n",
       "      <td>Bachelors</td>\n",
       "      <td>13</td>\n",
       "      <td>Married-civ-spouse</td>\n",
       "      <td>Exec-managerial</td>\n",
       "      <td>Husband</td>\n",
       "      <td>White</td>\n",
       "      <td>Male</td>\n",
       "      <td>0</td>\n",
       "      <td>0</td>\n",
       "      <td>13</td>\n",
       "      <td>United-States</td>\n",
       "      <td>&lt;=50K</td>\n",
       "    </tr>\n",
       "    <tr>\n",
       "      <th>2</th>\n",
       "      <td>38</td>\n",
       "      <td>Private</td>\n",
       "      <td>HS-grad</td>\n",
       "      <td>9</td>\n",
       "      <td>Divorced</td>\n",
       "      <td>Handlers-cleaners</td>\n",
       "      <td>Not-in-family</td>\n",
       "      <td>White</td>\n",
       "      <td>Male</td>\n",
       "      <td>0</td>\n",
       "      <td>0</td>\n",
       "      <td>40</td>\n",
       "      <td>United-States</td>\n",
       "      <td>&lt;=50K</td>\n",
       "    </tr>\n",
       "    <tr>\n",
       "      <th>3</th>\n",
       "      <td>53</td>\n",
       "      <td>Private</td>\n",
       "      <td>11th</td>\n",
       "      <td>7</td>\n",
       "      <td>Married-civ-spouse</td>\n",
       "      <td>Handlers-cleaners</td>\n",
       "      <td>Husband</td>\n",
       "      <td>Black</td>\n",
       "      <td>Male</td>\n",
       "      <td>0</td>\n",
       "      <td>0</td>\n",
       "      <td>40</td>\n",
       "      <td>United-States</td>\n",
       "      <td>&lt;=50K</td>\n",
       "    </tr>\n",
       "    <tr>\n",
       "      <th>4</th>\n",
       "      <td>28</td>\n",
       "      <td>Private</td>\n",
       "      <td>Bachelors</td>\n",
       "      <td>13</td>\n",
       "      <td>Married-civ-spouse</td>\n",
       "      <td>Prof-specialty</td>\n",
       "      <td>Wife</td>\n",
       "      <td>Black</td>\n",
       "      <td>Female</td>\n",
       "      <td>0</td>\n",
       "      <td>0</td>\n",
       "      <td>40</td>\n",
       "      <td>Cuba</td>\n",
       "      <td>&lt;=50K</td>\n",
       "    </tr>\n",
       "    <tr>\n",
       "      <th>...</th>\n",
       "      <td>...</td>\n",
       "      <td>...</td>\n",
       "      <td>...</td>\n",
       "      <td>...</td>\n",
       "      <td>...</td>\n",
       "      <td>...</td>\n",
       "      <td>...</td>\n",
       "      <td>...</td>\n",
       "      <td>...</td>\n",
       "      <td>...</td>\n",
       "      <td>...</td>\n",
       "      <td>...</td>\n",
       "      <td>...</td>\n",
       "      <td>...</td>\n",
       "    </tr>\n",
       "    <tr>\n",
       "      <th>30154</th>\n",
       "      <td>53</td>\n",
       "      <td>Private</td>\n",
       "      <td>Masters</td>\n",
       "      <td>14</td>\n",
       "      <td>Married-civ-spouse</td>\n",
       "      <td>Exec-managerial</td>\n",
       "      <td>Husband</td>\n",
       "      <td>White</td>\n",
       "      <td>Male</td>\n",
       "      <td>0</td>\n",
       "      <td>0</td>\n",
       "      <td>40</td>\n",
       "      <td>United-States</td>\n",
       "      <td>&gt;50K</td>\n",
       "    </tr>\n",
       "    <tr>\n",
       "      <th>30155</th>\n",
       "      <td>22</td>\n",
       "      <td>Private</td>\n",
       "      <td>Some-college</td>\n",
       "      <td>10</td>\n",
       "      <td>Never-married</td>\n",
       "      <td>Protective-serv</td>\n",
       "      <td>Not-in-family</td>\n",
       "      <td>White</td>\n",
       "      <td>Male</td>\n",
       "      <td>0</td>\n",
       "      <td>0</td>\n",
       "      <td>40</td>\n",
       "      <td>United-States</td>\n",
       "      <td>&lt;=50K</td>\n",
       "    </tr>\n",
       "    <tr>\n",
       "      <th>30156</th>\n",
       "      <td>27</td>\n",
       "      <td>Private</td>\n",
       "      <td>Assoc-acdm</td>\n",
       "      <td>12</td>\n",
       "      <td>Married-civ-spouse</td>\n",
       "      <td>Tech-support</td>\n",
       "      <td>Wife</td>\n",
       "      <td>White</td>\n",
       "      <td>Female</td>\n",
       "      <td>0</td>\n",
       "      <td>0</td>\n",
       "      <td>38</td>\n",
       "      <td>United-States</td>\n",
       "      <td>&lt;=50K</td>\n",
       "    </tr>\n",
       "    <tr>\n",
       "      <th>30158</th>\n",
       "      <td>58</td>\n",
       "      <td>Private</td>\n",
       "      <td>HS-grad</td>\n",
       "      <td>9</td>\n",
       "      <td>Widowed</td>\n",
       "      <td>Adm-clerical</td>\n",
       "      <td>Unmarried</td>\n",
       "      <td>White</td>\n",
       "      <td>Female</td>\n",
       "      <td>0</td>\n",
       "      <td>0</td>\n",
       "      <td>40</td>\n",
       "      <td>United-States</td>\n",
       "      <td>&lt;=50K</td>\n",
       "    </tr>\n",
       "    <tr>\n",
       "      <th>30160</th>\n",
       "      <td>52</td>\n",
       "      <td>Self-emp-inc</td>\n",
       "      <td>HS-grad</td>\n",
       "      <td>9</td>\n",
       "      <td>Married-civ-spouse</td>\n",
       "      <td>Exec-managerial</td>\n",
       "      <td>Wife</td>\n",
       "      <td>White</td>\n",
       "      <td>Female</td>\n",
       "      <td>15024</td>\n",
       "      <td>0</td>\n",
       "      <td>40</td>\n",
       "      <td>United-States</td>\n",
       "      <td>&gt;50K</td>\n",
       "    </tr>\n",
       "  </tbody>\n",
       "</table>\n",
       "<p>26903 rows × 14 columns</p>\n",
       "</div>"
      ],
      "text/plain": [
       "       age          workclass      education  educationno  \\\n",
       "0       39          State-gov      Bachelors           13   \n",
       "1       50   Self-emp-not-inc      Bachelors           13   \n",
       "2       38            Private        HS-grad            9   \n",
       "3       53            Private           11th            7   \n",
       "4       28            Private      Bachelors           13   \n",
       "...    ...                ...            ...          ...   \n",
       "30154   53            Private        Masters           14   \n",
       "30155   22            Private   Some-college           10   \n",
       "30156   27            Private     Assoc-acdm           12   \n",
       "30158   58            Private        HS-grad            9   \n",
       "30160   52       Self-emp-inc        HS-grad            9   \n",
       "\n",
       "             maritalstatus          occupation    relationship    race  \\\n",
       "0            Never-married        Adm-clerical   Not-in-family   White   \n",
       "1       Married-civ-spouse     Exec-managerial         Husband   White   \n",
       "2                 Divorced   Handlers-cleaners   Not-in-family   White   \n",
       "3       Married-civ-spouse   Handlers-cleaners         Husband   Black   \n",
       "4       Married-civ-spouse      Prof-specialty            Wife   Black   \n",
       "...                    ...                 ...             ...     ...   \n",
       "30154   Married-civ-spouse     Exec-managerial         Husband   White   \n",
       "30155        Never-married     Protective-serv   Not-in-family   White   \n",
       "30156   Married-civ-spouse        Tech-support            Wife   White   \n",
       "30158              Widowed        Adm-clerical       Unmarried   White   \n",
       "30160   Married-civ-spouse     Exec-managerial            Wife   White   \n",
       "\n",
       "           sex  capitalgain  capitalloss  hoursperweek          native  Salary  \n",
       "0         Male         2174            0            40   United-States   <=50K  \n",
       "1         Male            0            0            13   United-States   <=50K  \n",
       "2         Male            0            0            40   United-States   <=50K  \n",
       "3         Male            0            0            40   United-States   <=50K  \n",
       "4       Female            0            0            40            Cuba   <=50K  \n",
       "...        ...          ...          ...           ...             ...     ...  \n",
       "30154     Male            0            0            40   United-States    >50K  \n",
       "30155     Male            0            0            40   United-States   <=50K  \n",
       "30156   Female            0            0            38   United-States   <=50K  \n",
       "30158   Female            0            0            40   United-States   <=50K  \n",
       "30160   Female        15024            0            40   United-States    >50K  \n",
       "\n",
       "[26903 rows x 14 columns]"
      ]
     },
     "execution_count": 24,
     "metadata": {},
     "output_type": "execute_result"
    }
   ],
   "source": [
    "salarydata_train=salarydata_train.drop_duplicates()\n",
    "salarydata_train"
   ]
  },
  {
   "cell_type": "code",
   "execution_count": 26,
   "id": "85b044b9",
   "metadata": {},
   "outputs": [
    {
     "data": {
      "text/plain": [
       "0        False\n",
       "1        False\n",
       "2        False\n",
       "3        False\n",
       "4        False\n",
       "         ...  \n",
       "15055    False\n",
       "15056    False\n",
       "15057    False\n",
       "15058    False\n",
       "15059    False\n",
       "Length: 15060, dtype: bool"
      ]
     },
     "execution_count": 26,
     "metadata": {},
     "output_type": "execute_result"
    }
   ],
   "source": [
    "salarydata_test.duplicated()"
   ]
  },
  {
   "cell_type": "code",
   "execution_count": 29,
   "id": "d7978ef9",
   "metadata": {},
   "outputs": [
    {
     "data": {
      "text/plain": [
       " <=50K    20023\n",
       " >50K      6880\n",
       "Name: Salary, dtype: int64"
      ]
     },
     "execution_count": 29,
     "metadata": {},
     "output_type": "execute_result"
    }
   ],
   "source": [
    "salarydata_train['Salary'].value_counts()"
   ]
  },
  {
   "cell_type": "code",
   "execution_count": 30,
   "id": "b4284e48",
   "metadata": {},
   "outputs": [
    {
     "data": {
      "text/plain": [
       " <=50K    11360\n",
       " >50K      3700\n",
       "Name: Salary, dtype: int64"
      ]
     },
     "execution_count": 30,
     "metadata": {},
     "output_type": "execute_result"
    }
   ],
   "source": [
    "salarydata_test['Salary'].value_counts()"
   ]
  },
  {
   "cell_type": "code",
   "execution_count": 31,
   "id": "96ab69a6",
   "metadata": {},
   "outputs": [
    {
     "data": {
      "text/plain": [
       "array([' Adm-clerical', ' Exec-managerial', ' Handlers-cleaners',\n",
       "       ' Prof-specialty', ' Other-service', ' Sales', ' Transport-moving',\n",
       "       ' Farming-fishing', ' Machine-op-inspct', ' Tech-support',\n",
       "       ' Craft-repair', ' Protective-serv', ' Armed-Forces',\n",
       "       ' Priv-house-serv'], dtype=object)"
      ]
     },
     "execution_count": 31,
     "metadata": {},
     "output_type": "execute_result"
    }
   ],
   "source": [
    "# check labels in occupation variable\n",
    "\n",
    "salarydata_train.occupation.unique()\n"
   ]
  },
  {
   "cell_type": "code",
   "execution_count": 32,
   "id": "6b6c816f",
   "metadata": {},
   "outputs": [
    {
     "data": {
      "text/plain": [
       " Prof-specialty       3783\n",
       " Exec-managerial      3646\n",
       " Adm-clerical         3291\n",
       " Craft-repair         3229\n",
       " Sales                3205\n",
       " Other-service        2914\n",
       " Machine-op-inspct    1665\n",
       " Transport-moving     1420\n",
       " Handlers-cleaners    1159\n",
       " Farming-fishing       957\n",
       " Tech-support          858\n",
       " Protective-serv       626\n",
       " Priv-house-serv       141\n",
       " Armed-Forces            9\n",
       "Name: occupation, dtype: int64"
      ]
     },
     "execution_count": 32,
     "metadata": {},
     "output_type": "execute_result"
    }
   ],
   "source": [
    "salarydata_train.occupation.value_counts()"
   ]
  },
  {
   "cell_type": "code",
   "execution_count": 34,
   "id": "c378fe35",
   "metadata": {},
   "outputs": [
    {
     "data": {
      "text/html": [
       "<div>\n",
       "<style scoped>\n",
       "    .dataframe tbody tr th:only-of-type {\n",
       "        vertical-align: middle;\n",
       "    }\n",
       "\n",
       "    .dataframe tbody tr th {\n",
       "        vertical-align: top;\n",
       "    }\n",
       "\n",
       "    .dataframe thead th {\n",
       "        text-align: right;\n",
       "    }\n",
       "</style>\n",
       "<table border=\"1\" class=\"dataframe\">\n",
       "  <thead>\n",
       "    <tr style=\"text-align: right;\">\n",
       "      <th>Salary</th>\n",
       "      <th>&lt;=50K</th>\n",
       "      <th>&gt;50K</th>\n",
       "    </tr>\n",
       "    <tr>\n",
       "      <th>occupation</th>\n",
       "      <th></th>\n",
       "      <th></th>\n",
       "    </tr>\n",
       "  </thead>\n",
       "  <tbody>\n",
       "    <tr>\n",
       "      <th>Adm-clerical</th>\n",
       "      <td>2816</td>\n",
       "      <td>475</td>\n",
       "    </tr>\n",
       "    <tr>\n",
       "      <th>Armed-Forces</th>\n",
       "      <td>8</td>\n",
       "      <td>1</td>\n",
       "    </tr>\n",
       "    <tr>\n",
       "      <th>Craft-repair</th>\n",
       "      <td>2472</td>\n",
       "      <td>757</td>\n",
       "    </tr>\n",
       "    <tr>\n",
       "      <th>Exec-managerial</th>\n",
       "      <td>1903</td>\n",
       "      <td>1743</td>\n",
       "    </tr>\n",
       "    <tr>\n",
       "      <th>Farming-fishing</th>\n",
       "      <td>843</td>\n",
       "      <td>114</td>\n",
       "    </tr>\n",
       "    <tr>\n",
       "      <th>Handlers-cleaners</th>\n",
       "      <td>1081</td>\n",
       "      <td>78</td>\n",
       "    </tr>\n",
       "    <tr>\n",
       "      <th>Machine-op-inspct</th>\n",
       "      <td>1442</td>\n",
       "      <td>223</td>\n",
       "    </tr>\n",
       "    <tr>\n",
       "      <th>Other-service</th>\n",
       "      <td>2782</td>\n",
       "      <td>132</td>\n",
       "    </tr>\n",
       "    <tr>\n",
       "      <th>Priv-house-serv</th>\n",
       "      <td>140</td>\n",
       "      <td>1</td>\n",
       "    </tr>\n",
       "    <tr>\n",
       "      <th>Prof-specialty</th>\n",
       "      <td>2085</td>\n",
       "      <td>1698</td>\n",
       "    </tr>\n",
       "    <tr>\n",
       "      <th>Protective-serv</th>\n",
       "      <td>424</td>\n",
       "      <td>202</td>\n",
       "    </tr>\n",
       "    <tr>\n",
       "      <th>Sales</th>\n",
       "      <td>2315</td>\n",
       "      <td>890</td>\n",
       "    </tr>\n",
       "    <tr>\n",
       "      <th>Tech-support</th>\n",
       "      <td>594</td>\n",
       "      <td>264</td>\n",
       "    </tr>\n",
       "    <tr>\n",
       "      <th>Transport-moving</th>\n",
       "      <td>1118</td>\n",
       "      <td>302</td>\n",
       "    </tr>\n",
       "  </tbody>\n",
       "</table>\n",
       "</div>"
      ],
      "text/plain": [
       "Salary               <=50K   >50K\n",
       "occupation                       \n",
       " Adm-clerical         2816    475\n",
       " Armed-Forces            8      1\n",
       " Craft-repair         2472    757\n",
       " Exec-managerial      1903   1743\n",
       " Farming-fishing       843    114\n",
       " Handlers-cleaners    1081     78\n",
       " Machine-op-inspct    1442    223\n",
       " Other-service        2782    132\n",
       " Priv-house-serv       140      1\n",
       " Prof-specialty       2085   1698\n",
       " Protective-serv       424    202\n",
       " Sales                2315    890\n",
       " Tech-support          594    264\n",
       " Transport-moving     1118    302"
      ]
     },
     "execution_count": 34,
     "metadata": {},
     "output_type": "execute_result"
    }
   ],
   "source": [
    "pd.crosstab(salarydata_train['occupation'],salarydata_train['Salary'])"
   ]
  },
  {
   "cell_type": "code",
   "execution_count": 35,
   "id": "3877da3c",
   "metadata": {},
   "outputs": [
    {
     "data": {
      "text/plain": [
       "array([' United-States', ' Cuba', ' Jamaica', ' India', ' Mexico',\n",
       "       ' Puerto-Rico', ' Honduras', ' England', ' Canada', ' Germany',\n",
       "       ' Iran', ' Philippines', ' Poland', ' Columbia', ' Cambodia',\n",
       "       ' Thailand', ' Ecuador', ' Laos', ' Taiwan', ' Haiti', ' Portugal',\n",
       "       ' Dominican-Republic', ' El-Salvador', ' France', ' Guatemala',\n",
       "       ' Italy', ' China', ' South', ' Japan', ' Yugoslavia', ' Peru',\n",
       "       ' Outlying-US(Guam-USVI-etc)', ' Scotland', ' Trinadad&Tobago',\n",
       "       ' Greece', ' Nicaragua', ' Vietnam', ' Hong', ' Ireland',\n",
       "       ' Hungary'], dtype=object)"
      ]
     },
     "execution_count": 35,
     "metadata": {},
     "output_type": "execute_result"
    }
   ],
   "source": [
    "# check labels in native_country variable\n",
    "\n",
    "salarydata_train.native.unique()"
   ]
  },
  {
   "cell_type": "code",
   "execution_count": 36,
   "id": "4838752e",
   "metadata": {},
   "outputs": [
    {
     "data": {
      "text/plain": [
       " United-States                 24259\n",
       " Mexico                          600\n",
       " Philippines                     188\n",
       " Germany                         128\n",
       " Puerto-Rico                     109\n",
       " Canada                          107\n",
       " India                           100\n",
       " El-Salvador                     100\n",
       " Cuba                             92\n",
       " England                          86\n",
       " Jamaica                          80\n",
       " South                            71\n",
       " China                            68\n",
       " Italy                            68\n",
       " Dominican-Republic               67\n",
       " Vietnam                          64\n",
       " Guatemala                        61\n",
       " Japan                            59\n",
       " Poland                           56\n",
       " Columbia                         56\n",
       " Iran                             42\n",
       " Taiwan                           42\n",
       " Haiti                            42\n",
       " Portugal                         34\n",
       " Nicaragua                        33\n",
       " Peru                             30\n",
       " Greece                           29\n",
       " France                           27\n",
       " Ecuador                          27\n",
       " Ireland                          23\n",
       " Hong                             19\n",
       " Cambodia                         18\n",
       " Trinadad&Tobago                  18\n",
       " Laos                             17\n",
       " Thailand                         17\n",
       " Yugoslavia                       16\n",
       " Outlying-US(Guam-USVI-etc)       14\n",
       " Hungary                          13\n",
       " Honduras                         12\n",
       " Scotland                         11\n",
       "Name: native, dtype: int64"
      ]
     },
     "execution_count": 36,
     "metadata": {},
     "output_type": "execute_result"
    }
   ],
   "source": [
    "salarydata_train.native.value_counts()"
   ]
  },
  {
   "cell_type": "code",
   "execution_count": 38,
   "id": "ab12a34d",
   "metadata": {},
   "outputs": [
    {
     "data": {
      "text/html": [
       "<div>\n",
       "<style scoped>\n",
       "    .dataframe tbody tr th:only-of-type {\n",
       "        vertical-align: middle;\n",
       "    }\n",
       "\n",
       "    .dataframe tbody tr th {\n",
       "        vertical-align: top;\n",
       "    }\n",
       "\n",
       "    .dataframe thead th {\n",
       "        text-align: right;\n",
       "    }\n",
       "</style>\n",
       "<table border=\"1\" class=\"dataframe\">\n",
       "  <thead>\n",
       "    <tr style=\"text-align: right;\">\n",
       "      <th>Salary</th>\n",
       "      <th>&lt;=50K</th>\n",
       "      <th>&gt;50K</th>\n",
       "    </tr>\n",
       "    <tr>\n",
       "      <th>workclass</th>\n",
       "      <th></th>\n",
       "      <th></th>\n",
       "    </tr>\n",
       "  </thead>\n",
       "  <tbody>\n",
       "    <tr>\n",
       "      <th>Federal-gov</th>\n",
       "      <td>573</td>\n",
       "      <td>356</td>\n",
       "    </tr>\n",
       "    <tr>\n",
       "      <th>Local-gov</th>\n",
       "      <td>1421</td>\n",
       "      <td>593</td>\n",
       "    </tr>\n",
       "    <tr>\n",
       "      <th>Private</th>\n",
       "      <td>14902</td>\n",
       "      <td>4311</td>\n",
       "    </tr>\n",
       "    <tr>\n",
       "      <th>Self-emp-inc</th>\n",
       "      <td>466</td>\n",
       "      <td>583</td>\n",
       "    </tr>\n",
       "    <tr>\n",
       "      <th>Self-emp-not-inc</th>\n",
       "      <td>1733</td>\n",
       "      <td>698</td>\n",
       "    </tr>\n",
       "    <tr>\n",
       "      <th>State-gov</th>\n",
       "      <td>914</td>\n",
       "      <td>339</td>\n",
       "    </tr>\n",
       "    <tr>\n",
       "      <th>Without-pay</th>\n",
       "      <td>14</td>\n",
       "      <td>0</td>\n",
       "    </tr>\n",
       "  </tbody>\n",
       "</table>\n",
       "</div>"
      ],
      "text/plain": [
       "Salary              <=50K   >50K\n",
       "workclass                       \n",
       " Federal-gov          573    356\n",
       " Local-gov           1421    593\n",
       " Private            14902   4311\n",
       " Self-emp-inc         466    583\n",
       " Self-emp-not-inc    1733    698\n",
       " State-gov            914    339\n",
       " Without-pay           14      0"
      ]
     },
     "execution_count": 38,
     "metadata": {},
     "output_type": "execute_result"
    }
   ],
   "source": [
    "pd.crosstab(salarydata_train['workclass'],salarydata_train['Salary'])"
   ]
  },
  {
   "cell_type": "code",
   "execution_count": 39,
   "id": "c3fda493",
   "metadata": {},
   "outputs": [
    {
     "data": {
      "text/html": [
       "<div>\n",
       "<style scoped>\n",
       "    .dataframe tbody tr th:only-of-type {\n",
       "        vertical-align: middle;\n",
       "    }\n",
       "\n",
       "    .dataframe tbody tr th {\n",
       "        vertical-align: top;\n",
       "    }\n",
       "\n",
       "    .dataframe thead th {\n",
       "        text-align: right;\n",
       "    }\n",
       "</style>\n",
       "<table border=\"1\" class=\"dataframe\">\n",
       "  <thead>\n",
       "    <tr style=\"text-align: right;\">\n",
       "      <th>occupation</th>\n",
       "      <th>Adm-clerical</th>\n",
       "      <th>Armed-Forces</th>\n",
       "      <th>Craft-repair</th>\n",
       "      <th>Exec-managerial</th>\n",
       "      <th>Farming-fishing</th>\n",
       "      <th>Handlers-cleaners</th>\n",
       "      <th>Machine-op-inspct</th>\n",
       "      <th>Other-service</th>\n",
       "      <th>Priv-house-serv</th>\n",
       "      <th>Prof-specialty</th>\n",
       "      <th>Protective-serv</th>\n",
       "      <th>Sales</th>\n",
       "      <th>Tech-support</th>\n",
       "      <th>Transport-moving</th>\n",
       "    </tr>\n",
       "    <tr>\n",
       "      <th>workclass</th>\n",
       "      <th></th>\n",
       "      <th></th>\n",
       "      <th></th>\n",
       "      <th></th>\n",
       "      <th></th>\n",
       "      <th></th>\n",
       "      <th></th>\n",
       "      <th></th>\n",
       "      <th></th>\n",
       "      <th></th>\n",
       "      <th></th>\n",
       "      <th></th>\n",
       "      <th></th>\n",
       "      <th></th>\n",
       "    </tr>\n",
       "  </thead>\n",
       "  <tbody>\n",
       "    <tr>\n",
       "      <th>Federal-gov</th>\n",
       "      <td>309</td>\n",
       "      <td>9</td>\n",
       "      <td>62</td>\n",
       "      <td>175</td>\n",
       "      <td>8</td>\n",
       "      <td>22</td>\n",
       "      <td>14</td>\n",
       "      <td>34</td>\n",
       "      <td>0</td>\n",
       "      <td>165</td>\n",
       "      <td>27</td>\n",
       "      <td>14</td>\n",
       "      <td>66</td>\n",
       "      <td>24</td>\n",
       "    </tr>\n",
       "    <tr>\n",
       "      <th>Local-gov</th>\n",
       "      <td>277</td>\n",
       "      <td>0</td>\n",
       "      <td>139</td>\n",
       "      <td>211</td>\n",
       "      <td>28</td>\n",
       "      <td>46</td>\n",
       "      <td>11</td>\n",
       "      <td>187</td>\n",
       "      <td>0</td>\n",
       "      <td>667</td>\n",
       "      <td>291</td>\n",
       "      <td>7</td>\n",
       "      <td>38</td>\n",
       "      <td>112</td>\n",
       "    </tr>\n",
       "    <tr>\n",
       "      <th>Private</th>\n",
       "      <td>2378</td>\n",
       "      <td>0</td>\n",
       "      <td>2391</td>\n",
       "      <td>2333</td>\n",
       "      <td>430</td>\n",
       "      <td>1064</td>\n",
       "      <td>1581</td>\n",
       "      <td>2370</td>\n",
       "      <td>141</td>\n",
       "      <td>2042</td>\n",
       "      <td>185</td>\n",
       "      <td>2530</td>\n",
       "      <td>669</td>\n",
       "      <td>1099</td>\n",
       "    </tr>\n",
       "    <tr>\n",
       "      <th>Self-emp-inc</th>\n",
       "      <td>28</td>\n",
       "      <td>0</td>\n",
       "      <td>97</td>\n",
       "      <td>369</td>\n",
       "      <td>51</td>\n",
       "      <td>2</td>\n",
       "      <td>10</td>\n",
       "      <td>27</td>\n",
       "      <td>0</td>\n",
       "      <td>156</td>\n",
       "      <td>5</td>\n",
       "      <td>275</td>\n",
       "      <td>3</td>\n",
       "      <td>26</td>\n",
       "    </tr>\n",
       "    <tr>\n",
       "      <th>Self-emp-not-inc</th>\n",
       "      <td>49</td>\n",
       "      <td>0</td>\n",
       "      <td>487</td>\n",
       "      <td>375</td>\n",
       "      <td>419</td>\n",
       "      <td>15</td>\n",
       "      <td>35</td>\n",
       "      <td>173</td>\n",
       "      <td>0</td>\n",
       "      <td>360</td>\n",
       "      <td>6</td>\n",
       "      <td>368</td>\n",
       "      <td>26</td>\n",
       "      <td>118</td>\n",
       "    </tr>\n",
       "    <tr>\n",
       "      <th>State-gov</th>\n",
       "      <td>247</td>\n",
       "      <td>0</td>\n",
       "      <td>52</td>\n",
       "      <td>183</td>\n",
       "      <td>15</td>\n",
       "      <td>9</td>\n",
       "      <td>13</td>\n",
       "      <td>122</td>\n",
       "      <td>0</td>\n",
       "      <td>393</td>\n",
       "      <td>112</td>\n",
       "      <td>11</td>\n",
       "      <td>56</td>\n",
       "      <td>40</td>\n",
       "    </tr>\n",
       "    <tr>\n",
       "      <th>Without-pay</th>\n",
       "      <td>3</td>\n",
       "      <td>0</td>\n",
       "      <td>1</td>\n",
       "      <td>0</td>\n",
       "      <td>6</td>\n",
       "      <td>1</td>\n",
       "      <td>1</td>\n",
       "      <td>1</td>\n",
       "      <td>0</td>\n",
       "      <td>0</td>\n",
       "      <td>0</td>\n",
       "      <td>0</td>\n",
       "      <td>0</td>\n",
       "      <td>1</td>\n",
       "    </tr>\n",
       "  </tbody>\n",
       "</table>\n",
       "</div>"
      ],
      "text/plain": [
       "occupation          Adm-clerical   Armed-Forces   Craft-repair  \\\n",
       "workclass                                                        \n",
       " Federal-gov                 309              9             62   \n",
       " Local-gov                   277              0            139   \n",
       " Private                    2378              0           2391   \n",
       " Self-emp-inc                 28              0             97   \n",
       " Self-emp-not-inc             49              0            487   \n",
       " State-gov                   247              0             52   \n",
       " Without-pay                   3              0              1   \n",
       "\n",
       "occupation          Exec-managerial   Farming-fishing   Handlers-cleaners  \\\n",
       "workclass                                                                   \n",
       " Federal-gov                    175                 8                  22   \n",
       " Local-gov                      211                28                  46   \n",
       " Private                       2333               430                1064   \n",
       " Self-emp-inc                   369                51                   2   \n",
       " Self-emp-not-inc               375               419                  15   \n",
       " State-gov                      183                15                   9   \n",
       " Without-pay                      0                 6                   1   \n",
       "\n",
       "occupation          Machine-op-inspct   Other-service   Priv-house-serv  \\\n",
       "workclass                                                                 \n",
       " Federal-gov                       14              34                 0   \n",
       " Local-gov                         11             187                 0   \n",
       " Private                         1581            2370               141   \n",
       " Self-emp-inc                      10              27                 0   \n",
       " Self-emp-not-inc                  35             173                 0   \n",
       " State-gov                         13             122                 0   \n",
       " Without-pay                        1               1                 0   \n",
       "\n",
       "occupation          Prof-specialty   Protective-serv   Sales   Tech-support  \\\n",
       "workclass                                                                     \n",
       " Federal-gov                   165                27      14             66   \n",
       " Local-gov                     667               291       7             38   \n",
       " Private                      2042               185    2530            669   \n",
       " Self-emp-inc                  156                 5     275              3   \n",
       " Self-emp-not-inc              360                 6     368             26   \n",
       " State-gov                     393               112      11             56   \n",
       " Without-pay                     0                 0       0              0   \n",
       "\n",
       "occupation          Transport-moving  \n",
       "workclass                             \n",
       " Federal-gov                      24  \n",
       " Local-gov                       112  \n",
       " Private                        1099  \n",
       " Self-emp-inc                     26  \n",
       " Self-emp-not-inc                118  \n",
       " State-gov                        40  \n",
       " Without-pay                       1  "
      ]
     },
     "execution_count": 39,
     "metadata": {},
     "output_type": "execute_result"
    }
   ],
   "source": [
    "pd.crosstab(salarydata_train['workclass'],salarydata_train['occupation'])"
   ]
  },
  {
   "cell_type": "markdown",
   "id": "d590902c",
   "metadata": {},
   "source": [
    "Visualization"
   ]
  },
  {
   "cell_type": "code",
   "execution_count": 43,
   "id": "e0e6d2de",
   "metadata": {},
   "outputs": [
    {
     "data": {
      "image/png": "[encoded data removed]",
      "text/plain": [
       "<Figure size 640x480 with 1 Axes>"
      ]
     },
     "metadata": {},
     "output_type": "display_data"
    },
    {
     "data": {
      "text/plain": [
       " <=50K    20023\n",
       " >50K      6880\n",
       "Name: Salary, dtype: int64"
      ]
     },
     "execution_count": 43,
     "metadata": {},
     "output_type": "execute_result"
    }
   ],
   "source": [
    "sns.countplot(x='Salary',data= salarydata_train)\n",
    "plt.xlabel('Salary')\n",
    "plt.ylabel('count')\n",
    "plt.show()\n",
    "salarydata_train['Salary'].value_counts()"
   ]
  },
  {
   "cell_type": "code",
   "execution_count": 46,
   "id": "67140b6e",
   "metadata": {},
   "outputs": [
    {
     "data": {
      "image/png": "[encoded data removed]",
      "text/plain": [
       "<Figure size 640x480 with 1 Axes>"
      ]
     },
     "metadata": {},
     "output_type": "display_data"
    },
    {
     "data": {
      "text/plain": [
       " <=50K    11360\n",
       " >50K      3700\n",
       "Name: Salary, dtype: int64"
      ]
     },
     "execution_count": 46,
     "metadata": {},
     "output_type": "execute_result"
    }
   ],
   "source": [
    "sns.countplot(x='Salary',data= salarydata_test)\n",
    "plt.xlabel('Salary')\n",
    "plt.ylabel('count')\n",
    "plt.show()\n",
    "salarydata_test['Salary'].value_counts()"
   ]
  },
  {
   "cell_type": "code",
   "execution_count": 47,
   "id": "72f55cfe",
   "metadata": {},
   "outputs": [
    {
     "data": {
      "text/plain": [
       "<Axes: xlabel='count', ylabel='occupation'>"
      ]
     },
     "execution_count": 47,
     "metadata": {},
     "output_type": "execute_result"
    },
    {
     "data": {
      "image/png": "[encoded data removed]",
      "text/plain": [
       "<Figure size 2000x400 with 1 Axes>"
      ]
     },
     "metadata": {},
     "output_type": "display_data"
    }
   ],
   "source": [
    "plt.style.use('seaborn-ticks')\n",
    "plt.figure(figsize=(20,4)) \n",
    "sns.countplot(y=\"occupation\", data=salarydata_train)"
   ]
  },
  {
   "cell_type": "code",
   "execution_count": 48,
   "id": "1c2fffda",
   "metadata": {},
   "outputs": [
    {
     "data": {
      "text/plain": [
       "<Axes: xlabel='count', ylabel='occupation'>"
      ]
     },
     "execution_count": 48,
     "metadata": {},
     "output_type": "execute_result"
    },
    {
     "data": {
      "image/png": "[encoded data removed]",
      "text/plain": [
       "<Figure size 2000x400 with 1 Axes>"
      ]
     },
     "metadata": {},
     "output_type": "display_data"
    }
   ],
   "source": [
    "plt.style.use('seaborn-ticks')\n",
    "plt.figure(figsize=(20,4)) \n",
    "sns.countplot(y=\"occupation\", data=salarydata_test)"
   ]
  },
  {
   "cell_type": "code",
   "execution_count": 49,
   "id": "76c1423c",
   "metadata": {},
   "outputs": [
    {
     "data": {
      "text/plain": [
       "<Axes: xlabel='count', ylabel='workclass'>"
      ]
     },
     "execution_count": 49,
     "metadata": {},
     "output_type": "execute_result"
    },
    {
     "data": {
      "image/png": "[encoded data removed]",
      "text/plain": [
       "<Figure size 2000x300 with 1 Axes>"
      ]
     },
     "metadata": {},
     "output_type": "display_data"
    }
   ],
   "source": [
    "plt.style.use('seaborn-ticks')\n",
    "plt.figure(figsize=(20,3)) \n",
    "sns.countplot(y=\"workclass\", data=salarydata_train)"
   ]
  },
  {
   "cell_type": "code",
   "execution_count": 50,
   "id": "489af614",
   "metadata": {},
   "outputs": [
    {
     "data": {
      "text/plain": [
       "<Axes: xlabel='count', ylabel='workclass'>"
      ]
     },
     "execution_count": 50,
     "metadata": {},
     "output_type": "execute_result"
    },
    {
     "data": {
      "image/png": "[encoded data removed]",
      "text/plain": [
       "<Figure size 2000x300 with 1 Axes>"
      ]
     },
     "metadata": {},
     "output_type": "display_data"
    }
   ],
   "source": [
    "plt.style.use('seaborn-ticks')\n",
    "plt.figure(figsize=(20,3)) \n",
    "sns.countplot(y=\"workclass\", data=salarydata_test)"
   ]
  },
  {
   "cell_type": "code",
   "execution_count": 51,
   "id": "3825220b",
   "metadata": {},
   "outputs": [
    {
     "data": {
      "text/plain": [
       "<Axes: xlabel='education'>"
      ]
     },
     "execution_count": 51,
     "metadata": {},
     "output_type": "execute_result"
    },
    {
     "data": {
      "image/png": "[encoded data removed]",
      "text/plain": [
       "<Figure size 640x480 with 1 Axes>"
      ]
     },
     "metadata": {},
     "output_type": "display_data"
    }
   ],
   "source": [
    "pd.crosstab(salarydata_train['Salary'],salarydata_train['education']).mean().plot(kind='bar')"
   ]
  },
  {
   "cell_type": "code",
   "execution_count": 53,
   "id": "42a8332e",
   "metadata": {},
   "outputs": [
    {
     "data": {
      "text/plain": [
       "<Axes: xlabel='occupation'>"
      ]
     },
     "execution_count": 53,
     "metadata": {},
     "output_type": "execute_result"
    },
    {
     "data": {
      "image/png": "[encoded data removed]",
      "text/plain": [
       "<Figure size 640x480 with 1 Axes>"
      ]
     },
     "metadata": {},
     "output_type": "display_data"
    }
   ],
   "source": [
    "pd.crosstab(salarydata_train['Salary'],salarydata_train['occupation']).mean().plot(kind='bar')"
   ]
  },
  {
   "cell_type": "code",
   "execution_count": 54,
   "id": "f44b37a1",
   "metadata": {},
   "outputs": [
    {
     "data": {
      "text/plain": [
       "<Axes: xlabel='workclass'>"
      ]
     },
     "execution_count": 54,
     "metadata": {},
     "output_type": "execute_result"
    },
    {
     "data": {
      "image/png": "[encoded data removed]",
      "text/plain": [
       "<Figure size 640x480 with 1 Axes>"
      ]
     },
     "metadata": {},
     "output_type": "display_data"
    }
   ],
   "source": [
    "pd.crosstab(salarydata_train['Salary'],salarydata_train['workclass']).mean().plot(kind='bar')\n"
   ]
  },
  {
   "cell_type": "code",
   "execution_count": 55,
   "id": "ea23cf44",
   "metadata": {},
   "outputs": [
    {
     "data": {
      "text/plain": [
       "<Axes: xlabel='sex'>"
      ]
     },
     "execution_count": 55,
     "metadata": {},
     "output_type": "execute_result"
    },
    {
     "data": {
      "image/png": "[encoded data removed]",
      "text/plain": [
       "<Figure size 640x480 with 1 Axes>"
      ]
     },
     "metadata": {},
     "output_type": "display_data"
    }
   ],
   "source": [
    "pd.crosstab(salarydata_train['Salary'],salarydata_train['sex']).mean().plot(kind='bar')"
   ]
  },
  {
   "cell_type": "code",
   "execution_count": 56,
   "id": "8c2864c9",
   "metadata": {},
   "outputs": [
    {
     "data": {
      "text/plain": [
       "<Axes: xlabel='relationship'>"
      ]
     },
     "execution_count": 56,
     "metadata": {},
     "output_type": "execute_result"
    },
    {
     "data": {
      "image/png": "[encoded data removed]",
      "text/plain": [
       "<Figure size 640x480 with 1 Axes>"
      ]
     },
     "metadata": {},
     "output_type": "display_data"
    }
   ],
   "source": [
    "pd.crosstab(salarydata_train['Salary'],salarydata_train['relationship']).mean().plot(kind='bar')"
   ]
  },
  {
   "cell_type": "code",
   "execution_count": 57,
   "id": "b15eb50e",
   "metadata": {},
   "outputs": [],
   "source": [
    "string_columns = [\"workclass\",\"education\",\"maritalstatus\",\"occupation\",\"relationship\",\"race\",\"sex\",\"native\"]"
   ]
  },
  {
   "cell_type": "code",
   "execution_count": null,
   "id": "17c0dd47",
   "metadata": {},
   "outputs": [],
   "source": []
  },
  {
   "cell_type": "code",
   "execution_count": 61,
   "id": "bfbb324b",
   "metadata": {},
   "outputs": [],
   "source": [
    "from sklearn.preprocessing import LabelEncoder\n",
    "from sklearn.preprocessing import StandardScaler\n",
    "from sklearn.model_selection import train_test_split,cross_val_score"
   ]
  },
  {
   "cell_type": "code",
   "execution_count": 64,
   "id": "8bd672ff",
   "metadata": {},
   "outputs": [],
   "source": [
    "#Preprocessing\n",
    "number = LabelEncoder()\n",
    "for i in string_columns:\n",
    "        salarydata_train[i]= number.fit_transform(salarydata_train[i])\n",
    "        salarydata_test[i] = number.fit_transform(salarydata_test[i])\n",
    "    "
   ]
  },
  {
   "cell_type": "code",
   "execution_count": 65,
   "id": "22f081cb",
   "metadata": {},
   "outputs": [
    {
     "data": {
      "text/html": [
       "<div>\n",
       "<style scoped>\n",
       "    .dataframe tbody tr th:only-of-type {\n",
       "        vertical-align: middle;\n",
       "    }\n",
       "\n",
       "    .dataframe tbody tr th {\n",
       "        vertical-align: top;\n",
       "    }\n",
       "\n",
       "    .dataframe thead th {\n",
       "        text-align: right;\n",
       "    }\n",
       "</style>\n",
       "<table border=\"1\" class=\"dataframe\">\n",
       "  <thead>\n",
       "    <tr style=\"text-align: right;\">\n",
       "      <th></th>\n",
       "      <th>age</th>\n",
       "      <th>workclass</th>\n",
       "      <th>education</th>\n",
       "      <th>educationno</th>\n",
       "      <th>maritalstatus</th>\n",
       "      <th>occupation</th>\n",
       "      <th>relationship</th>\n",
       "      <th>race</th>\n",
       "      <th>sex</th>\n",
       "      <th>capitalgain</th>\n",
       "      <th>capitalloss</th>\n",
       "      <th>hoursperweek</th>\n",
       "      <th>native</th>\n",
       "      <th>Salary</th>\n",
       "    </tr>\n",
       "  </thead>\n",
       "  <tbody>\n",
       "    <tr>\n",
       "      <th>0</th>\n",
       "      <td>39</td>\n",
       "      <td>5</td>\n",
       "      <td>9</td>\n",
       "      <td>13</td>\n",
       "      <td>4</td>\n",
       "      <td>0</td>\n",
       "      <td>1</td>\n",
       "      <td>4</td>\n",
       "      <td>1</td>\n",
       "      <td>2174</td>\n",
       "      <td>0</td>\n",
       "      <td>40</td>\n",
       "      <td>37</td>\n",
       "      <td>&lt;=50K</td>\n",
       "    </tr>\n",
       "    <tr>\n",
       "      <th>1</th>\n",
       "      <td>50</td>\n",
       "      <td>4</td>\n",
       "      <td>9</td>\n",
       "      <td>13</td>\n",
       "      <td>2</td>\n",
       "      <td>3</td>\n",
       "      <td>0</td>\n",
       "      <td>4</td>\n",
       "      <td>1</td>\n",
       "      <td>0</td>\n",
       "      <td>0</td>\n",
       "      <td>13</td>\n",
       "      <td>37</td>\n",
       "      <td>&lt;=50K</td>\n",
       "    </tr>\n",
       "    <tr>\n",
       "      <th>2</th>\n",
       "      <td>38</td>\n",
       "      <td>2</td>\n",
       "      <td>11</td>\n",
       "      <td>9</td>\n",
       "      <td>0</td>\n",
       "      <td>5</td>\n",
       "      <td>1</td>\n",
       "      <td>4</td>\n",
       "      <td>1</td>\n",
       "      <td>0</td>\n",
       "      <td>0</td>\n",
       "      <td>40</td>\n",
       "      <td>37</td>\n",
       "      <td>&lt;=50K</td>\n",
       "    </tr>\n",
       "    <tr>\n",
       "      <th>3</th>\n",
       "      <td>53</td>\n",
       "      <td>2</td>\n",
       "      <td>1</td>\n",
       "      <td>7</td>\n",
       "      <td>2</td>\n",
       "      <td>5</td>\n",
       "      <td>0</td>\n",
       "      <td>2</td>\n",
       "      <td>1</td>\n",
       "      <td>0</td>\n",
       "      <td>0</td>\n",
       "      <td>40</td>\n",
       "      <td>37</td>\n",
       "      <td>&lt;=50K</td>\n",
       "    </tr>\n",
       "    <tr>\n",
       "      <th>4</th>\n",
       "      <td>28</td>\n",
       "      <td>2</td>\n",
       "      <td>9</td>\n",
       "      <td>13</td>\n",
       "      <td>2</td>\n",
       "      <td>9</td>\n",
       "      <td>5</td>\n",
       "      <td>2</td>\n",
       "      <td>0</td>\n",
       "      <td>0</td>\n",
       "      <td>0</td>\n",
       "      <td>40</td>\n",
       "      <td>4</td>\n",
       "      <td>&lt;=50K</td>\n",
       "    </tr>\n",
       "  </tbody>\n",
       "</table>\n",
       "</div>"
      ],
      "text/plain": [
       "   age  workclass  education  educationno  maritalstatus  occupation  \\\n",
       "0   39          5          9           13              4           0   \n",
       "1   50          4          9           13              2           3   \n",
       "2   38          2         11            9              0           5   \n",
       "3   53          2          1            7              2           5   \n",
       "4   28          2          9           13              2           9   \n",
       "\n",
       "   relationship  race  sex  capitalgain  capitalloss  hoursperweek  native  \\\n",
       "0             1     4    1         2174            0            40      37   \n",
       "1             0     4    1            0            0            13      37   \n",
       "2             1     4    1            0            0            40      37   \n",
       "3             0     2    1            0            0            40      37   \n",
       "4             5     2    0            0            0            40       4   \n",
       "\n",
       "   Salary  \n",
       "0   <=50K  \n",
       "1   <=50K  \n",
       "2   <=50K  \n",
       "3   <=50K  \n",
       "4   <=50K  "
      ]
     },
     "execution_count": 65,
     "metadata": {},
     "output_type": "execute_result"
    }
   ],
   "source": [
    "salarydata_train.head()"
   ]
  },
  {
   "cell_type": "code",
   "execution_count": 67,
   "id": "2a6cc5d6",
   "metadata": {},
   "outputs": [
    {
     "data": {
      "text/html": [
       "<div>\n",
       "<style scoped>\n",
       "    .dataframe tbody tr th:only-of-type {\n",
       "        vertical-align: middle;\n",
       "    }\n",
       "\n",
       "    .dataframe tbody tr th {\n",
       "        vertical-align: top;\n",
       "    }\n",
       "\n",
       "    .dataframe thead th {\n",
       "        text-align: right;\n",
       "    }\n",
       "</style>\n",
       "<table border=\"1\" class=\"dataframe\">\n",
       "  <thead>\n",
       "    <tr style=\"text-align: right;\">\n",
       "      <th></th>\n",
       "      <th>age</th>\n",
       "      <th>workclass</th>\n",
       "      <th>education</th>\n",
       "      <th>educationno</th>\n",
       "      <th>maritalstatus</th>\n",
       "      <th>occupation</th>\n",
       "      <th>relationship</th>\n",
       "      <th>race</th>\n",
       "      <th>sex</th>\n",
       "      <th>capitalgain</th>\n",
       "      <th>capitalloss</th>\n",
       "      <th>hoursperweek</th>\n",
       "      <th>native</th>\n",
       "      <th>Salary</th>\n",
       "    </tr>\n",
       "  </thead>\n",
       "  <tbody>\n",
       "    <tr>\n",
       "      <th>0</th>\n",
       "      <td>25</td>\n",
       "      <td>2</td>\n",
       "      <td>1</td>\n",
       "      <td>7</td>\n",
       "      <td>4</td>\n",
       "      <td>6</td>\n",
       "      <td>3</td>\n",
       "      <td>2</td>\n",
       "      <td>1</td>\n",
       "      <td>0</td>\n",
       "      <td>0</td>\n",
       "      <td>40</td>\n",
       "      <td>37</td>\n",
       "      <td>&lt;=50K</td>\n",
       "    </tr>\n",
       "    <tr>\n",
       "      <th>1</th>\n",
       "      <td>38</td>\n",
       "      <td>2</td>\n",
       "      <td>11</td>\n",
       "      <td>9</td>\n",
       "      <td>2</td>\n",
       "      <td>4</td>\n",
       "      <td>0</td>\n",
       "      <td>4</td>\n",
       "      <td>1</td>\n",
       "      <td>0</td>\n",
       "      <td>0</td>\n",
       "      <td>50</td>\n",
       "      <td>37</td>\n",
       "      <td>&lt;=50K</td>\n",
       "    </tr>\n",
       "    <tr>\n",
       "      <th>2</th>\n",
       "      <td>28</td>\n",
       "      <td>1</td>\n",
       "      <td>7</td>\n",
       "      <td>12</td>\n",
       "      <td>2</td>\n",
       "      <td>10</td>\n",
       "      <td>0</td>\n",
       "      <td>4</td>\n",
       "      <td>1</td>\n",
       "      <td>0</td>\n",
       "      <td>0</td>\n",
       "      <td>40</td>\n",
       "      <td>37</td>\n",
       "      <td>&gt;50K</td>\n",
       "    </tr>\n",
       "    <tr>\n",
       "      <th>3</th>\n",
       "      <td>44</td>\n",
       "      <td>2</td>\n",
       "      <td>15</td>\n",
       "      <td>10</td>\n",
       "      <td>2</td>\n",
       "      <td>6</td>\n",
       "      <td>0</td>\n",
       "      <td>2</td>\n",
       "      <td>1</td>\n",
       "      <td>7688</td>\n",
       "      <td>0</td>\n",
       "      <td>40</td>\n",
       "      <td>37</td>\n",
       "      <td>&gt;50K</td>\n",
       "    </tr>\n",
       "    <tr>\n",
       "      <th>4</th>\n",
       "      <td>34</td>\n",
       "      <td>2</td>\n",
       "      <td>0</td>\n",
       "      <td>6</td>\n",
       "      <td>4</td>\n",
       "      <td>7</td>\n",
       "      <td>1</td>\n",
       "      <td>4</td>\n",
       "      <td>1</td>\n",
       "      <td>0</td>\n",
       "      <td>0</td>\n",
       "      <td>30</td>\n",
       "      <td>37</td>\n",
       "      <td>&lt;=50K</td>\n",
       "    </tr>\n",
       "  </tbody>\n",
       "</table>\n",
       "</div>"
      ],
      "text/plain": [
       "   age  workclass  education  educationno  maritalstatus  occupation  \\\n",
       "0   25          2          1            7              4           6   \n",
       "1   38          2         11            9              2           4   \n",
       "2   28          1          7           12              2          10   \n",
       "3   44          2         15           10              2           6   \n",
       "4   34          2          0            6              4           7   \n",
       "\n",
       "   relationship  race  sex  capitalgain  capitalloss  hoursperweek  native  \\\n",
       "0             3     2    1            0            0            40      37   \n",
       "1             0     4    1            0            0            50      37   \n",
       "2             0     4    1            0            0            40      37   \n",
       "3             0     2    1         7688            0            40      37   \n",
       "4             1     4    1            0            0            30      37   \n",
       "\n",
       "   Salary  \n",
       "0   <=50K  \n",
       "1   <=50K  \n",
       "2    >50K  \n",
       "3    >50K  \n",
       "4   <=50K  "
      ]
     },
     "execution_count": 67,
     "metadata": {},
     "output_type": "execute_result"
    }
   ],
   "source": [
    "salarydata_test.head()"
   ]
  },
  {
   "cell_type": "code",
   "execution_count": 68,
   "id": "351b26f3",
   "metadata": {},
   "outputs": [
    {
     "data": {
      "text/plain": [
       "Index(['age', 'workclass', 'education', 'educationno', 'maritalstatus',\n",
       "       'occupation', 'relationship', 'race', 'sex', 'capitalgain',\n",
       "       'capitalloss', 'hoursperweek', 'native', 'Salary'],\n",
       "      dtype='object')"
      ]
     },
     "execution_count": 68,
     "metadata": {},
     "output_type": "execute_result"
    }
   ],
   "source": [
    "#Capturing the column names which can help in futher process\n",
    "colnames = salarydata_train.columns\n",
    "colnames"
   ]
  },
  {
   "cell_type": "code",
   "execution_count": 69,
   "id": "6dd62cf5",
   "metadata": {},
   "outputs": [
    {
     "data": {
      "text/plain": [
       "14"
      ]
     },
     "execution_count": 69,
     "metadata": {},
     "output_type": "execute_result"
    }
   ],
   "source": [
    "len(colnames)"
   ]
  },
  {
   "cell_type": "code",
   "execution_count": 70,
   "id": "c81ab672",
   "metadata": {},
   "outputs": [
    {
     "data": {
      "text/plain": [
       "2    6990\n",
       "4    4872\n",
       "0    2083\n",
       "5     472\n",
       "6     450\n",
       "3     182\n",
       "1      11\n",
       "Name: maritalstatus, dtype: int64"
      ]
     },
     "execution_count": 70,
     "metadata": {},
     "output_type": "execute_result"
    }
   ],
   "source": [
    "salarydata_test['maritalstatus'].value_counts()"
   ]
  },
  {
   "cell_type": "code",
   "execution_count": 71,
   "id": "d1138741",
   "metadata": {},
   "outputs": [],
   "source": [
    "# storing the values in x_train,y_train,x_test & y_test for spliting the data in train and test for analysis\n",
    "x_train = salarydata_train[colnames[0:13]].values\n",
    "y_train = salarydata_train[colnames[13]].values\n",
    "x_test = salarydata_test[colnames[0:13]].values\n",
    "y_test =salarydata_test[colnames[13]].values"
   ]
  },
  {
   "cell_type": "code",
   "execution_count": 73,
   "id": "b82adba7",
   "metadata": {},
   "outputs": [
    {
     "data": {
      "text/plain": [
       "array([[39,  5,  9, ...,  0, 40, 37],\n",
       "       [50,  4,  9, ...,  0, 13, 37],\n",
       "       [38,  2, 11, ...,  0, 40, 37],\n",
       "       ...,\n",
       "       [27,  2,  7, ...,  0, 38, 37],\n",
       "       [58,  2, 11, ...,  0, 40, 37],\n",
       "       [52,  3, 11, ...,  0, 40, 37]], dtype=int64)"
      ]
     },
     "execution_count": 73,
     "metadata": {},
     "output_type": "execute_result"
    }
   ],
   "source": [
    "x_train"
   ]
  },
  {
   "cell_type": "code",
   "execution_count": 74,
   "id": "a6be612a",
   "metadata": {},
   "outputs": [
    {
     "data": {
      "text/plain": [
       "array([[25,  2,  1, ...,  0, 40, 37],\n",
       "       [38,  2, 11, ...,  0, 50, 37],\n",
       "       [28,  1,  7, ...,  0, 40, 37],\n",
       "       ...,\n",
       "       [38,  2,  9, ...,  0, 50, 37],\n",
       "       [44,  2,  9, ...,  0, 40, 37],\n",
       "       [35,  3,  9, ...,  0, 60, 37]], dtype=int64)"
      ]
     },
     "execution_count": 74,
     "metadata": {},
     "output_type": "execute_result"
    }
   ],
   "source": [
    "x_test"
   ]
  },
  {
   "cell_type": "code",
   "execution_count": 75,
   "id": "8e182b8e",
   "metadata": {},
   "outputs": [
    {
     "data": {
      "text/plain": [
       "array([' <=50K', ' <=50K', ' <=50K', ..., ' <=50K', ' <=50K', ' >50K'],\n",
       "      dtype=object)"
      ]
     },
     "execution_count": 75,
     "metadata": {},
     "output_type": "execute_result"
    }
   ],
   "source": [
    "y_train"
   ]
  },
  {
   "cell_type": "code",
   "execution_count": 76,
   "id": "994a3540",
   "metadata": {},
   "outputs": [
    {
     "data": {
      "text/plain": [
       "array([' <=50K', ' <=50K', ' >50K', ..., ' <=50K', ' <=50K', ' >50K'],\n",
       "      dtype=object)"
      ]
     },
     "execution_count": 76,
     "metadata": {},
     "output_type": "execute_result"
    }
   ],
   "source": [
    "y_test"
   ]
  },
  {
   "cell_type": "code",
   "execution_count": null,
   "id": "00ca50fb",
   "metadata": {},
   "outputs": [],
   "source": []
  },
  {
   "cell_type": "code",
   "execution_count": 72,
   "id": "2db6f5ed",
   "metadata": {},
   "outputs": [],
   "source": [
    "#Normalmization\n",
    "def norm_func(i):\n",
    "    x = (i-i.min())/(i.max()-i.min())\n",
    "    return (x)"
   ]
  },
  {
   "cell_type": "code",
   "execution_count": 77,
   "id": "0c7b6eb7",
   "metadata": {},
   "outputs": [],
   "source": [
    "x_train = norm_func(x_train)\n",
    "x_test =  norm_func(x_test)"
   ]
  },
  {
   "cell_type": "markdown",
   "id": "afdbf7ab",
   "metadata": {},
   "source": [
    "Applying naive bayes for classification"
   ]
  },
  {
   "cell_type": "code",
   "execution_count": 78,
   "id": "5bbdf294",
   "metadata": {},
   "outputs": [],
   "source": [
    "# Preparing a naive bayes model on training data set \n",
    "\n",
    "from sklearn.naive_bayes import MultinomialNB as MB\n",
    "\n",
    "M_model=MB()\n",
    "train_pred_multi=M_model.fit(x_train,y_train).predict(x_train)\n",
    "test_pred_multi=M_model.fit(x_train,y_train).predict(x_test)"
   ]
  },
  {
   "cell_type": "code",
   "execution_count": 79,
   "id": "f458adf3",
   "metadata": {},
   "outputs": [
    {
     "data": {
      "text/plain": [
       "0.7442664386871353"
      ]
     },
     "execution_count": 79,
     "metadata": {},
     "output_type": "execute_result"
    }
   ],
   "source": [
    "train_acc_multi=np.mean(train_pred_multi==y_train)\n",
    "train_acc_multi"
   ]
  },
  {
   "cell_type": "code",
   "execution_count": 80,
   "id": "67cb7028",
   "metadata": {},
   "outputs": [
    {
     "data": {
      "text/plain": [
       "0.7543160690571049"
      ]
     },
     "execution_count": 80,
     "metadata": {},
     "output_type": "execute_result"
    }
   ],
   "source": [
    "test_acc_multi=np.mean(test_pred_multi==y_test)\n",
    "test_acc_multi"
   ]
  },
  {
   "cell_type": "code",
   "execution_count": 81,
   "id": "23c51347",
   "metadata": {},
   "outputs": [],
   "source": [
    "# Making the Confusion Matrix\n",
    "from sklearn.metrics import confusion_matrix\n",
    "confusion_matrix = confusion_matrix(y_test, test_pred_multi)"
   ]
  },
  {
   "cell_type": "code",
   "execution_count": 82,
   "id": "f4fb32a0",
   "metadata": {},
   "outputs": [
    {
     "data": {
      "text/plain": [
       "array([[11360,     0],\n",
       "       [ 3700,     0]], dtype=int64)"
      ]
     },
     "execution_count": 82,
     "metadata": {},
     "output_type": "execute_result"
    }
   ],
   "source": [
    "confusion_matrix"
   ]
  },
  {
   "cell_type": "code",
   "execution_count": 83,
   "id": "56c170d6",
   "metadata": {},
   "outputs": [
    {
     "name": "stdout",
     "output_type": "stream",
     "text": [
      "0.7543160690571049\n"
     ]
    }
   ],
   "source": [
    "#calculating the accuracy of this model with respect to this dataset\n",
    "from sklearn.metrics import accuracy_score\n",
    "print(accuracy_score(y_test,test_pred_multi))"
   ]
  },
  {
   "cell_type": "code",
   "execution_count": 84,
   "id": "19b2b36d",
   "metadata": {},
   "outputs": [],
   "source": [
    "# GaussianNB for numerical data\n",
    "from sklearn.naive_bayes import GaussianNB as GB\n",
    "G_model=GB()\n",
    "train_pred_gau=G_model.fit(x_train,y_train).predict(x_train)\n",
    "test_pred_gau=G_model.fit(x_train,y_train).predict(x_test)"
   ]
  },
  {
   "cell_type": "code",
   "execution_count": 85,
   "id": "aaae6276",
   "metadata": {},
   "outputs": [
    {
     "data": {
      "text/plain": [
       "0.7933687692822362"
      ]
     },
     "execution_count": 85,
     "metadata": {},
     "output_type": "execute_result"
    }
   ],
   "source": [
    "train_acc_gau=np.mean(train_pred_gau==y_train)\n",
    "train_acc_gau"
   ]
  },
  {
   "cell_type": "code",
   "execution_count": 86,
   "id": "106ea608",
   "metadata": {},
   "outputs": [
    {
     "data": {
      "text/plain": [
       "0.7956175298804781"
      ]
     },
     "execution_count": 86,
     "metadata": {},
     "output_type": "execute_result"
    }
   ],
   "source": [
    "test_acc_gau=np.mean(test_pred_gau==y_test)\n",
    "test_acc_gau"
   ]
  },
  {
   "cell_type": "code",
   "execution_count": 87,
   "id": "bdf0433e",
   "metadata": {},
   "outputs": [],
   "source": [
    "# Making the Confusion Matrix\n",
    "from sklearn.metrics import confusion_matrix\n",
    "confusion_matrix = confusion_matrix(y_test, test_pred_gau)"
   ]
  },
  {
   "cell_type": "code",
   "execution_count": 88,
   "id": "c4942d62",
   "metadata": {},
   "outputs": [
    {
     "data": {
      "text/plain": [
       "array([[10796,   564],\n",
       "       [ 2514,  1186]], dtype=int64)"
      ]
     },
     "execution_count": 88,
     "metadata": {},
     "output_type": "execute_result"
    }
   ],
   "source": [
    "confusion_matrix"
   ]
  },
  {
   "cell_type": "code",
   "execution_count": 89,
   "id": "7e505822",
   "metadata": {},
   "outputs": [
    {
     "name": "stdout",
     "output_type": "stream",
     "text": [
      "0.7956175298804781\n"
     ]
    }
   ],
   "source": [
    "#calculating the accuracy of this model\n",
    "from sklearn.metrics import accuracy_score\n",
    "print(accuracy_score(y_test,test_pred_gau))"
   ]
  }
 ],
 "metadata": {
  "kernelspec": {
   "display_name": "Python 3 (ipykernel)",
   "language": "python",
   "name": "python3"
  },
  "language_info": {
   "codemirror_mode": {
    "name": "ipython",
    "version": 3
   },
   "file_extension": ".py",
   "mimetype": "text/x-python",
   "name": "python",
   "nbconvert_exporter": "python",
   "pygments_lexer": "ipython3",
   "version": "3.11.4"
  }
 },
 "nbformat": 4,
 "nbformat_minor": 5
}
